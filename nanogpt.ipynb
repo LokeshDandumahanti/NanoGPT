{
  "cells": [
    {
      "cell_type": "markdown",
      "metadata": {
        "id": "view-in-github",
        "colab_type": "text"
      },
      "source": [
        "<a href=\"https://colab.research.google.com/github/LokeshDandumahanti/NanoGPT/blob/main/nanogpt.ipynb\" target=\"_parent\"><img src=\"https://colab.research.google.com/assets/colab-badge.svg\" alt=\"Open In Colab\"/></a>"
      ]
    },
    {
      "cell_type": "markdown",
      "metadata": {
        "id": "nOTT9r3UqXHb"
      },
      "source": [
        "#1. Intro\n"
      ]
    },
    {
      "cell_type": "code",
      "execution_count": null,
      "metadata": {
        "id": "KARDeenzNEsx",
        "colab": {
          "base_uri": "https://localhost:8080/"
        },
        "outputId": "1adab8f9-673e-457d-a7c9-00accda4df12"
      },
      "outputs": [
        {
          "output_type": "stream",
          "name": "stdout",
          "text": [
            "--2024-05-01 04:01:24--  https://gist.githubusercontent.com/flackend/18014f35d32b37c595b138f666b2108f/raw/99494b71652af807e77560b1d83ebbc5ed4c2f32/sorcerers-stone.txt\n",
            "Resolving gist.githubusercontent.com (gist.githubusercontent.com)... 185.199.111.133, 185.199.108.133, 185.199.110.133, ...\n",
            "Connecting to gist.githubusercontent.com (gist.githubusercontent.com)|185.199.111.133|:443... connected.\n",
            "HTTP request sent, awaiting response... 200 OK\n",
            "Length: 459564 (449K) [text/plain]\n",
            "Saving to: ‘/content/drive/MyDrive/saved_models/sorcerers-stone.txt’\n",
            "\n",
            "/content/drive/MyDr 100%[===================>] 448.79K  --.-KB/s    in 0.04s   \n",
            "\n",
            "2024-05-01 04:01:24 (12.1 MB/s) - ‘/content/drive/MyDrive/saved_models/sorcerers-stone.txt’ saved [459564/459564]\n",
            "\n"
          ]
        }
      ],
      "source": [
        "# We always start with a dataset to train on. Let's download the tiny shakespeare dataset\n",
        "!wget https://gist.githubusercontent.com/flackend/18014f35d32b37c595b138f666b2108f/raw/99494b71652af807e77560b1d83ebbc5ed4c2f32/sorcerers-stone.txt -O \"/content/drive/MyDrive/saved_models/sorcerers-stone.txt\"\n"
      ]
    },
    {
      "cell_type": "code",
      "source": [
        "!pip install -U keepsake"
      ],
      "metadata": {
        "colab": {
          "base_uri": "https://localhost:8080/"
        },
        "id": "_QDct8xY9nQB",
        "outputId": "ff3e9131-175a-4140-92ec-4a44059608b7"
      },
      "execution_count": null,
      "outputs": [
        {
          "output_type": "stream",
          "name": "stdout",
          "text": [
            "Collecting keepsake\n",
            "  Downloading keepsake-0.4.2-py3-none-manylinux1_x86_64.whl (16.8 MB)\n",
            "\u001b[2K     \u001b[90m━━━━━━━━━━━━━━━━━━━━━━━━━━━━━━━━━━━━━━━━\u001b[0m \u001b[32m16.8/16.8 MB\u001b[0m \u001b[31m34.9 MB/s\u001b[0m eta \u001b[36m0:00:00\u001b[0m\n",
            "\u001b[?25hRequirement already satisfied: googleapis-common-protos[grpc]>=1.0.0 in /usr/local/lib/python3.10/dist-packages (from keepsake) (1.63.0)\n",
            "Requirement already satisfied: protobuf!=3.20.0,!=3.20.1,!=4.21.1,!=4.21.2,!=4.21.3,!=4.21.4,!=4.21.5,<5.0.0.dev0,>=3.19.5 in /usr/local/lib/python3.10/dist-packages (from googleapis-common-protos[grpc]>=1.0.0->keepsake) (3.20.3)\n",
            "Requirement already satisfied: grpcio<2.0.0.dev0,>=1.44.0 in /usr/local/lib/python3.10/dist-packages (from googleapis-common-protos[grpc]>=1.0.0->keepsake) (1.62.2)\n",
            "Installing collected packages: keepsake\n",
            "Successfully installed keepsake-0.4.2\n"
          ]
        }
      ]
    },
    {
      "cell_type": "code",
      "source": [
        "import keepsake\n",
        "from keepsake import experiment"
      ],
      "metadata": {
        "id": "k2WbamILthX5"
      },
      "execution_count": null,
      "outputs": []
    },
    {
      "cell_type": "markdown",
      "metadata": {
        "id": "dA9I5yBdPGnT"
      },
      "source": [
        "#2. Reading and exploring the data"
      ]
    },
    {
      "cell_type": "code",
      "execution_count": null,
      "metadata": {
        "id": "nbXThzYzqhS1"
      },
      "outputs": [],
      "source": [
        "# read it in to inspect it\n",
        "with open('/content/drive/MyDrive/saved_models/sorcerers-stone.txt', 'r', encoding='utf-8') as f:\n",
        "    text = f.read()"
      ]
    },
    {
      "cell_type": "code",
      "execution_count": null,
      "metadata": {
        "colab": {
          "base_uri": "https://localhost:8080/"
        },
        "id": "rW5Vh-_009x_",
        "outputId": "6f0f5d49-9ec5-4c29-d457-ca4ce0c23949"
      },
      "outputs": [
        {
          "output_type": "stream",
          "name": "stdout",
          "text": [
            "length of dataset in characters:  441832\n"
          ]
        }
      ],
      "source": [
        "print(\"length of dataset in characters: \", len(text))"
      ]
    },
    {
      "cell_type": "code",
      "execution_count": null,
      "metadata": {
        "colab": {
          "base_uri": "https://localhost:8080/"
        },
        "id": "vZduYxLyqNQR",
        "outputId": "690c5788-f940-454f-8047-86cce7a601e6"
      },
      "outputs": [
        {
          "output_type": "stream",
          "name": "stdout",
          "text": [
            "THE BOY WHO LIVED\n",
            "\n",
            "Mr. and Mrs. Dursley, of number four, Privet Drive,\n",
            "were proud to say that they were perfectly normal,\n",
            "thank you very much. They were the last people you’d\n",
            "expect to be involved in anything strange or\n",
            "mysterious, because they just didn’t hold with such\n",
            "nonsense.\n",
            "\n",
            "Mr. Dursley was the director of a firm called\n",
            "Grunnings, which made drills. He was a big, beefy\n",
            "man with hardly any neck, although he did have a\n",
            "very large mustache. Mrs. Dursley was thin and\n",
            "blonde and had nearly twice the usual amount of\n",
            "neck, which came in very useful as she spent so\n",
            "much of her time craning over garden fences, spying\n",
            "on the neighbors. The Dursley s had a small son\n",
            "called Dudley and in their opinion there was no finer\n",
            "boy anywhere.\n",
            "\n",
            "The Dursleys had everything they wanted, but they\n",
            "also had a secret, and their greatest fear was that\n",
            "somebody would discover it. They didn’t think they\n",
            "could bear it if anyone found out about the Potters.\n",
            "Mrs. Potter was Mrs. Dursley’s sister, but they hadn’t\n"
          ]
        }
      ],
      "source": [
        "#let's look at the first 1000 characters\n",
        "print(text[:1000])"
      ]
    },
    {
      "cell_type": "markdown",
      "metadata": {
        "id": "paPGTnoZP0SV"
      },
      "source": [
        "#3. Tokenization and train/val split\n"
      ]
    },
    {
      "cell_type": "markdown",
      "metadata": {
        "id": "fXTe4niX09fl"
      },
      "source": [
        "1. here basically all the characters are sorted and then assigned a number for each one of them.\n",
        "2. then each of the character is then encodeded to a number till whole dataset is converted into a string of numbers\n",
        "3. then it is broke into training and testing dataset\n",
        "4. After that a neuron is"
      ]
    },
    {
      "cell_type": "code",
      "execution_count": null,
      "metadata": {
        "colab": {
          "base_uri": "https://localhost:8080/"
        },
        "id": "e7spV-TD0PFI",
        "outputId": "1a943e78-b3cb-4a89-d2f5-f7fb743f7e0b"
      },
      "outputs": [
        {
          "output_type": "stream",
          "name": "stdout",
          "text": [
            "\n",
            " !\"'(),-./0123456789:;?ABCDEFGHIJKLMNOPQRSTUVWYZ\\abcdefghijklmnopqrstuvwxyz—‘’“”•■\n",
            "83\n"
          ]
        }
      ],
      "source": [
        "#here are all the unique characters that occur in this text\n",
        "\n",
        "chars = sorted(list(set(text)))\n",
        "vocab_size = len(chars)\n",
        "print(''.join(chars))\n",
        "print(vocab_size)"
      ]
    },
    {
      "cell_type": "code",
      "source": [],
      "metadata": {
        "id": "TMFcmJgmhw-e"
      },
      "execution_count": null,
      "outputs": []
    },
    {
      "cell_type": "code",
      "execution_count": null,
      "metadata": {
        "colab": {
          "base_uri": "https://localhost:8080/"
        },
        "id": "R9p3K8SN-dKu",
        "outputId": "133bc2b1-5d1d-4a55-f8db-fe8cfc5fb499"
      },
      "outputs": [
        {
          "output_type": "stream",
          "name": "stdout",
          "text": [
            "[57, 58, 1, 69, 57, 54, 67, 54]\n",
            "hi there\n"
          ]
        }
      ],
      "source": [
        "#create a mapping from characters to integers\n",
        "\n",
        "stoi = { ch:i for i,ch in enumerate(chars) }\n",
        "itos = { i:ch for i,ch in enumerate(chars) }\n",
        "encode = lambda s: [stoi[c] for c in s] # encoder : take a string, output a list of integers\n",
        "decode = lambda l: ''.join([itos[i] for i in l])\n",
        "\n",
        "print(encode(\"hi there\"))\n",
        "print(decode(encode(\"hi there\")))"
      ]
    },
    {
      "cell_type": "code",
      "execution_count": null,
      "metadata": {
        "colab": {
          "base_uri": "https://localhost:8080/"
        },
        "id": "wp9Ua1mU_V2E",
        "outputId": "ecd886e0-054c-4604-adae-0bbcbefc68c8"
      },
      "outputs": [
        {
          "output_type": "stream",
          "name": "stdout",
          "text": [
            "torch.Size([441832]) torch.int64\n",
            "tensor([43, 31, 28,  1, 25, 38, 47,  1, 46, 31, 38,  1, 35, 32, 45, 28, 27,  0,\n",
            "         0, 36, 67,  9,  1, 50, 63, 53,  1, 36, 67, 68,  9,  1, 27, 70, 67, 68,\n",
            "        61, 54, 74,  7,  1, 64, 55,  1, 63, 70, 62, 51, 54, 67,  1, 55, 64, 70,\n",
            "        67,  7,  1, 39, 67, 58, 71, 54, 69,  1, 27, 67, 58, 71, 54,  7,  0, 72,\n",
            "        54, 67, 54,  1, 65, 67, 64, 70, 53,  1, 69, 64,  1, 68, 50, 74,  1, 69,\n",
            "        57, 50, 69,  1, 69, 57, 54, 74,  1, 72, 54, 67, 54,  1, 65, 54, 67, 55,\n",
            "        54, 52, 69, 61, 74,  1, 63, 64, 67, 62, 50, 61,  7,  0, 69, 57, 50, 63,\n",
            "        60,  1, 74, 64, 70,  1, 71, 54, 67, 74,  1, 62, 70, 52, 57,  9,  1, 43,\n",
            "        57, 54, 74,  1, 72, 54, 67, 54,  1, 69, 57, 54,  1, 61, 50, 68, 69,  1,\n",
            "        65, 54, 64, 65, 61, 54,  1, 74, 64, 70, 78, 53,  0, 54, 73, 65, 54, 52,\n",
            "        69,  1, 69, 64,  1, 51, 54,  1, 58, 63, 71, 64, 61, 71, 54, 53,  1, 58,\n",
            "        63,  1, 50, 63, 74, 69, 57, 58, 63, 56,  1, 68, 69, 67, 50, 63, 56, 54,\n",
            "         1, 64, 67,  0, 62, 74, 68, 69, 54, 67, 58, 64, 70, 68,  7,  1, 51, 54,\n",
            "        52, 50, 70, 68, 54,  1, 69, 57, 54, 74,  1, 59, 70, 68, 69,  1, 53, 58,\n",
            "        53, 63, 78, 69,  1, 57, 64, 61, 53,  1, 72, 58, 69, 57,  1, 68, 70, 52,\n",
            "        57,  0, 63, 64, 63, 68, 54, 63, 68, 54,  9,  0,  0, 36, 67,  9,  1, 27,\n",
            "        70, 67, 68, 61, 54, 74,  1, 72, 50, 68,  1, 69, 57, 54,  1, 53, 58, 67,\n",
            "        54, 52, 69, 64, 67,  1, 64, 55,  1, 50,  1, 55, 58, 67, 62,  1, 52, 50,\n",
            "        61, 61, 54, 53,  0, 30, 67, 70, 63, 63, 58, 63, 56, 68,  7,  1, 72, 57,\n",
            "        58, 52, 57,  1, 62, 50, 53, 54,  1, 53, 67, 58, 61, 61, 68,  9,  1, 31,\n",
            "        54,  1, 72, 50, 68,  1, 50,  1, 51, 58, 56,  7,  1, 51, 54, 54, 55, 74,\n",
            "         0, 62, 50, 63,  1, 72, 58, 69, 57,  1, 57, 50, 67, 53, 61, 74,  1, 50,\n",
            "        63, 74,  1, 63, 54, 52, 60,  7,  1, 50, 61, 69, 57, 64, 70, 56, 57,  1,\n",
            "        57, 54,  1, 53, 58, 53,  1, 57, 50, 71, 54,  1, 50,  0, 71, 54, 67, 74,\n",
            "         1, 61, 50, 67, 56, 54,  1, 62, 70, 68, 69, 50, 52, 57, 54,  9,  1, 36,\n",
            "        67, 68,  9,  1, 27, 70, 67, 68, 61, 54, 74,  1, 72, 50, 68,  1, 69, 57,\n",
            "        58, 63,  1, 50, 63, 53,  0, 51, 61, 64, 63, 53, 54,  1, 50, 63, 53,  1,\n",
            "        57, 50, 53,  1, 63, 54, 50, 67, 61, 74,  1, 69, 72, 58, 52, 54,  1, 69,\n",
            "        57, 54,  1, 70, 68, 70, 50, 61,  1, 50, 62, 64, 70, 63, 69,  1, 64, 55,\n",
            "         0, 63, 54, 52, 60,  7,  1, 72, 57, 58, 52, 57,  1, 52, 50, 62, 54,  1,\n",
            "        58, 63,  1, 71, 54, 67, 74,  1, 70, 68, 54, 55, 70, 61,  1, 50, 68,  1,\n",
            "        68, 57, 54,  1, 68, 65, 54, 63, 69,  1, 68, 64,  0, 62, 70, 52, 57,  1,\n",
            "        64, 55,  1, 57, 54, 67,  1, 69, 58, 62, 54,  1, 52, 67, 50, 63, 58, 63,\n",
            "        56,  1, 64, 71, 54, 67,  1, 56, 50, 67, 53, 54, 63,  1, 55, 54, 63, 52,\n",
            "        54, 68,  7,  1, 68, 65, 74, 58, 63, 56,  0, 64, 63,  1, 69, 57, 54,  1,\n",
            "        63, 54, 58, 56, 57, 51, 64, 67, 68,  9,  1, 43, 57, 54,  1, 27, 70, 67,\n",
            "        68, 61, 54, 74,  1, 68,  1, 57, 50, 53,  1, 50,  1, 68, 62, 50, 61, 61,\n",
            "         1, 68, 64, 63,  0, 52, 50, 61, 61, 54, 53,  1, 27, 70, 53, 61, 54, 74,\n",
            "         1, 50, 63, 53,  1, 58, 63,  1, 69, 57, 54, 58, 67,  1, 64, 65, 58, 63,\n",
            "        58, 64, 63,  1, 69, 57, 54, 67, 54,  1, 72, 50, 68,  1, 63, 64,  1, 55,\n",
            "        58, 63, 54, 67,  0, 51, 64, 74,  1, 50, 63, 74, 72, 57, 54, 67, 54,  9,\n",
            "         0,  0, 43, 57, 54,  1, 27, 70, 67, 68, 61, 54, 74, 68,  1, 57, 50, 53,\n",
            "         1, 54, 71, 54, 67, 74, 69, 57, 58, 63, 56,  1, 69, 57, 54, 74,  1, 72,\n",
            "        50, 63, 69, 54, 53,  7,  1, 51, 70, 69,  1, 69, 57, 54, 74,  0, 50, 61,\n",
            "        68, 64,  1, 57, 50, 53,  1, 50,  1, 68, 54, 52, 67, 54, 69,  7,  1, 50,\n",
            "        63, 53,  1, 69, 57, 54, 58, 67,  1, 56, 67, 54, 50, 69, 54, 68, 69,  1,\n",
            "        55, 54, 50, 67,  1, 72, 50, 68,  1, 69, 57, 50, 69,  0, 68, 64, 62, 54,\n",
            "        51, 64, 53, 74,  1, 72, 64, 70, 61, 53,  1, 53, 58, 68, 52, 64, 71, 54,\n",
            "        67,  1, 58, 69,  9,  1, 43, 57, 54, 74,  1, 53, 58, 53, 63, 78, 69,  1,\n",
            "        69, 57, 58, 63, 60,  1, 69, 57, 54, 74,  0, 52, 64, 70, 61, 53,  1, 51,\n",
            "        54, 50, 67,  1, 58, 69,  1, 58, 55,  1, 50, 63, 74, 64, 63, 54,  1, 55,\n",
            "        64, 70, 63, 53,  1, 64, 70, 69,  1, 50, 51, 64, 70, 69,  1, 69, 57, 54,\n",
            "         1, 39, 64, 69, 69, 54, 67, 68,  9,  0, 36, 67, 68,  9,  1, 39, 64, 69,\n",
            "        69, 54, 67,  1, 72, 50, 68,  1, 36, 67, 68,  9,  1, 27, 70, 67, 68, 61,\n",
            "        54, 74, 78, 68,  1, 68, 58, 68, 69, 54, 67,  7,  1, 51, 70, 69,  1, 69,\n",
            "        57, 54, 74,  1, 57, 50, 53, 63, 78, 69])\n"
          ]
        }
      ],
      "source": [
        "# let's now encode the entire text dataset and store it into a'torch.Tensor\n",
        "import torch # we use PyTorch: http://pytorch.org\n",
        "data = torch.tensor(encode(text), dtype = torch.long)\n",
        "print(data.shape, data.dtype)\n",
        "print(data[:1000]) # the 1000 characters we looked at earier will to the GPT look like this"
      ]
    },
    {
      "cell_type": "code",
      "execution_count": null,
      "metadata": {
        "id": "wtYfoMMEAeBx"
      },
      "outputs": [],
      "source": [
        "#Let's now split up the data into train and validation sets\n",
        "\n",
        "n = int(0.9*len(data))\n",
        "train_data = data[:n]\n",
        "val_data = data[n:]"
      ]
    },
    {
      "cell_type": "code",
      "execution_count": null,
      "metadata": {
        "colab": {
          "base_uri": "https://localhost:8080/"
        },
        "id": "s7V320eSA1h1",
        "outputId": "9b90f49b-99c9-4976-9b6f-e5a3a82bbc20"
      },
      "outputs": [
        {
          "output_type": "execute_result",
          "data": {
            "text/plain": [
              "tensor([43, 31, 28,  1, 25, 38, 47,  1, 46])"
            ]
          },
          "metadata": {},
          "execution_count": 11
        }
      ],
      "source": [
        "block_size = 8\n",
        "train_data[:block_size + 1]"
      ]
    },
    {
      "cell_type": "code",
      "execution_count": null,
      "metadata": {
        "colab": {
          "base_uri": "https://localhost:8080/"
        },
        "id": "1de-iNl7A-3A",
        "outputId": "15693e74-50cf-4dbe-a0df-7f2ca8e3a45d"
      },
      "outputs": [
        {
          "output_type": "stream",
          "name": "stdout",
          "text": [
            "when input is tensor([43]) the target: 31\n",
            "when input is tensor([43, 31]) the target: 28\n",
            "when input is tensor([43, 31, 28]) the target: 1\n",
            "when input is tensor([43, 31, 28,  1]) the target: 25\n",
            "when input is tensor([43, 31, 28,  1, 25]) the target: 38\n",
            "when input is tensor([43, 31, 28,  1, 25, 38]) the target: 47\n",
            "when input is tensor([43, 31, 28,  1, 25, 38, 47]) the target: 1\n",
            "when input is tensor([43, 31, 28,  1, 25, 38, 47,  1]) the target: 46\n"
          ]
        }
      ],
      "source": [
        "x = train_data[:block_size]\n",
        "y = train_data[1:block_size+1]\n",
        "for t in range(block_size):\n",
        "  context = x[:t+1]\n",
        "  target = y[t]\n",
        "  print(f\"when input is {context} the target: {target}\")"
      ]
    },
    {
      "cell_type": "markdown",
      "metadata": {
        "id": "CGQAegsZQH4e"
      },
      "source": [
        "#4. Data loader : batches of chunks of data"
      ]
    },
    {
      "cell_type": "code",
      "execution_count": null,
      "metadata": {
        "colab": {
          "base_uri": "https://localhost:8080/"
        },
        "id": "v4zovBWGBd-N",
        "outputId": "9c880bb3-408e-4bf0-878a-196eb589c1a5"
      },
      "outputs": [
        {
          "output_type": "stream",
          "name": "stdout",
          "text": [
            "inputs:\n",
            "torch.Size([4, 8])\n",
            "tensor([[55,  1, 69, 57, 54,  0, 27, 70],\n",
            "        [53,  1, 58, 69,  1, 64, 63, 69],\n",
            "        [ 1, 65, 64, 58, 63, 69, 68,  1],\n",
            "        [ 1, 64, 70, 69,  1, 58, 63, 69]])\n",
            "targets:\n",
            "torch.Size([4, 8])\n",
            "tensor([[ 1, 69, 57, 54,  0, 27, 70, 67],\n",
            "        [ 1, 58, 69,  1, 64, 63, 69, 64],\n",
            "        [65, 64, 58, 63, 69, 68,  1, 55],\n",
            "        [64, 70, 69,  1, 58, 63, 69, 64]])\n",
            "-----\n",
            "when input is [55] the target: 1\n",
            "when input is [55, 1] the target: 69\n",
            "when input is [55, 1, 69] the target: 57\n",
            "when input is [55, 1, 69, 57] the target: 54\n",
            "when input is [55, 1, 69, 57, 54] the target: 0\n",
            "when input is [55, 1, 69, 57, 54, 0] the target: 27\n",
            "when input is [55, 1, 69, 57, 54, 0, 27] the target: 70\n",
            "when input is [55, 1, 69, 57, 54, 0, 27, 70] the target: 67\n",
            "when input is [53] the target: 1\n",
            "when input is [53, 1] the target: 58\n",
            "when input is [53, 1, 58] the target: 69\n",
            "when input is [53, 1, 58, 69] the target: 1\n",
            "when input is [53, 1, 58, 69, 1] the target: 64\n",
            "when input is [53, 1, 58, 69, 1, 64] the target: 63\n",
            "when input is [53, 1, 58, 69, 1, 64, 63] the target: 69\n",
            "when input is [53, 1, 58, 69, 1, 64, 63, 69] the target: 64\n",
            "when input is [1] the target: 65\n",
            "when input is [1, 65] the target: 64\n",
            "when input is [1, 65, 64] the target: 58\n",
            "when input is [1, 65, 64, 58] the target: 63\n",
            "when input is [1, 65, 64, 58, 63] the target: 69\n",
            "when input is [1, 65, 64, 58, 63, 69] the target: 68\n",
            "when input is [1, 65, 64, 58, 63, 69, 68] the target: 1\n",
            "when input is [1, 65, 64, 58, 63, 69, 68, 1] the target: 55\n",
            "when input is [1] the target: 64\n",
            "when input is [1, 64] the target: 70\n",
            "when input is [1, 64, 70] the target: 69\n",
            "when input is [1, 64, 70, 69] the target: 1\n",
            "when input is [1, 64, 70, 69, 1] the target: 58\n",
            "when input is [1, 64, 70, 69, 1, 58] the target: 63\n",
            "when input is [1, 64, 70, 69, 1, 58, 63] the target: 69\n",
            "when input is [1, 64, 70, 69, 1, 58, 63, 69] the target: 64\n"
          ]
        }
      ],
      "source": [
        "torch.manual_seed(1337)\n",
        "batch_size = 4\n",
        "block_size = 8\n",
        "\n",
        "def get_batch(split):\n",
        "  data = train_data if split == 'train' else val_data\n",
        "  ix = torch.randint(len(data) - block_size, (batch_size,))\n",
        "  x = torch.stack([data[i : i+block_size] for i in ix])\n",
        "  y = torch.stack([data[i+1:i+block_size+1] for i in ix])\n",
        "  return x,y\n",
        "\n",
        "xb, yb = get_batch('train')\n",
        "print('inputs:')\n",
        "print(xb.shape)\n",
        "print(xb)\n",
        "print('targets:')\n",
        "print(yb.shape)\n",
        "print(yb)\n",
        "\n",
        "print('-----')\n",
        "\n",
        "for b in range(batch_size):\n",
        "  for t in range(block_size):\n",
        "    context = xb[b, :t+1]\n",
        "    target = yb[b,t]\n",
        "    print(f\"when input is {context.tolist()} the target: {target}\")\n",
        "\n"
      ]
    },
    {
      "cell_type": "code",
      "execution_count": null,
      "metadata": {
        "colab": {
          "base_uri": "https://localhost:8080/"
        },
        "id": "B_POol24Dx_F",
        "outputId": "ff5ac55c-f815-4895-8ffc-e735b2a6e47d"
      },
      "outputs": [
        {
          "output_type": "stream",
          "name": "stdout",
          "text": [
            "tensor([[55,  1, 69, 57, 54,  0, 27, 70],\n",
            "        [53,  1, 58, 69,  1, 64, 63, 69],\n",
            "        [ 1, 65, 64, 58, 63, 69, 68,  1],\n",
            "        [ 1, 64, 70, 69,  1, 58, 63, 69]])\n"
          ]
        }
      ],
      "source": [
        "print(xb)"
      ]
    },
    {
      "cell_type": "markdown",
      "metadata": {
        "id": "EWJ0Z1qpQllR"
      },
      "source": [
        "#5. Simplest baseline: bigram language model, loss, generation\n",
        "\n"
      ]
    },
    {
      "cell_type": "code",
      "execution_count": null,
      "metadata": {
        "colab": {
          "base_uri": "https://localhost:8080/"
        },
        "id": "ERBw3OZ8D2sh",
        "outputId": "89d1e2b7-27e9-4dd1-8214-6ca4c21742ad"
      },
      "outputs": [
        {
          "output_type": "stream",
          "name": "stdout",
          "text": [
            "torch.Size([32, 83])\n",
            "tensor(4.3570, grad_fn=<NllLossBackward0>)\n",
            "\n",
            "44;5’L,OB)!,2W/()7fd Ckxae\"jR!Dtre0qUG“kB5(;QW•N\n",
            "G—oAhhv\"SsGgj4yF-H9q:Ug■jgDJ4S11Bv!6Ulpnlitw;h’()KP\n"
          ]
        }
      ],
      "source": [
        "import torch\n",
        "import torch.nn as nn\n",
        "from torch.nn import functional as F\n",
        "torch.manual_seed(1337)\n",
        "\n",
        "class BigramLanguageModel(nn.Module):\n",
        "\n",
        "    def __init__(self, vocab_size):\n",
        "        super().__init__()\n",
        "        # each token directly reads off the logits for the next token from a lookup table\n",
        "        self.token_embedding_table = nn.Embedding(vocab_size, vocab_size)\n",
        "\n",
        "    def forward(self, idx, targets=None):\n",
        "\n",
        "        # idx and targets are both (B,T) tensor of integers\n",
        "        logits = self.token_embedding_table(idx) # (B,T,C)\n",
        "\n",
        "        if targets is None:\n",
        "            loss = None\n",
        "        else:\n",
        "            B, T, C = logits.shape\n",
        "            logits = logits.view(B*T, C)\n",
        "            targets = targets.view(B*T)\n",
        "            loss = F.cross_entropy(logits, targets)\n",
        "\n",
        "        return logits, loss\n",
        "\n",
        "    def generate(self, idx, max_new_tokens):\n",
        "        # idx is (B, T) array of indices in the current context\n",
        "        for _ in range(max_new_tokens):\n",
        "            # get the predictions\n",
        "            logits, loss = self(idx)\n",
        "            # focus only on the last time step\n",
        "            logits = logits[:, -1, :] # becomes (B, C)\n",
        "            # apply softmax to get probabilities\n",
        "            probs = F.softmax(logits, dim=-1) # (B, C)\n",
        "            # sample from the distribution\n",
        "            idx_next = torch.multinomial(probs, num_samples=1) # (B, 1)\n",
        "            # append sampled index to the running sequence\n",
        "            idx = torch.cat((idx, idx_next), dim=1) # (B, T+1)\n",
        "        return idx\n",
        "\n",
        "m = BigramLanguageModel(vocab_size)\n",
        "logits, loss = m(xb, yb)\n",
        "print(logits.shape)\n",
        "print(loss)\n",
        "\n",
        "print(decode(m.generate(idx = torch.zeros((1, 1), dtype=torch.long), max_new_tokens=100)[0].tolist()))\n"
      ]
    },
    {
      "cell_type": "markdown",
      "metadata": {
        "id": "2HrBq6TYfhNO"
      },
      "source": [
        "#6. Training the Bigram Model\n"
      ]
    },
    {
      "cell_type": "code",
      "execution_count": null,
      "metadata": {
        "id": "pZQ1l4KnRSex"
      },
      "outputs": [],
      "source": [
        "# create a PyTorch optimizer\n",
        "optimizer = torch.optim.AdamW(m.parameters(), lr=1e-3)"
      ]
    },
    {
      "cell_type": "code",
      "execution_count": null,
      "metadata": {
        "colab": {
          "base_uri": "https://localhost:8080/"
        },
        "id": "9f_7r8f9RchN",
        "outputId": "927bff5e-19fb-4c3e-8d46-ad005fc7f00d"
      },
      "outputs": [
        {
          "output_type": "stream",
          "name": "stdout",
          "text": [
            "4.714195728302002\n"
          ]
        }
      ],
      "source": [
        "batch_size = 32\n",
        "for steps in range(100): # increase number of steps for good results...\n",
        "\n",
        "    # sample a batch of data\n",
        "    xb, yb = get_batch('train')\n",
        "\n",
        "    # evaluate the loss\n",
        "    logits, loss = m(xb, yb)\n",
        "    optimizer.zero_grad(set_to_none=True)\n",
        "    loss.backward()\n",
        "    optimizer.step()\n",
        "\n",
        "print(loss.item())\n"
      ]
    },
    {
      "cell_type": "markdown",
      "metadata": {
        "id": "9Il3MOkxh9Gu"
      },
      "source": [
        "#7. Port our code to a script"
      ]
    },
    {
      "cell_type": "code",
      "execution_count": null,
      "metadata": {
        "colab": {
          "base_uri": "https://localhost:8080/"
        },
        "id": "0mDRWnnmRg3Q",
        "outputId": "faba828b-db5b-4d8b-da36-f9746746188a"
      },
      "outputs": [
        {
          "output_type": "stream",
          "name": "stdout",
          "text": [
            "\n",
            ")T\n",
            "UT6t•-!K?n-Jqn3nIrtE\\MY,3nb849Gy'hyNb1!?ZWlElwlwp■Lgnsod‘,J\"4E/o'Z,lPA8cT‘QJ;l4GFll:qL!hztmoT!RJtKPxx:cJ!aCnm-H4Pxbnw?- k!ERFk\"y0n-(!NkWYK7hC2NY■xO75TMB;6,Z'Lz C\n",
            "egMj2pf—sOgrYW9'—M l4•12\"yF6orjlaO.”y'5RSEQ7ZLr6z2 k‘WIkPl0l(lC\n",
            "lW928?7s0a“pntsESg?5■‘n6OFaKao“UL’rLP;;n-oJjOESGsVT,JgsJl-RCh!7IJwZ\n",
            "akSn\n",
            ":xSW-J.uS”Vq)nh:e0■DZ■I’e,P)d\n",
            "w‘nGpmx, WeZW(BR)\"2Yj7vLS)TFy‘”tm N\n",
            "5AbkFj•k.,ZKy3FKH49RRMOYMs Na“p8Nx8NI3”■M?OBzK84V”tY'—ISuqGsfC■1FJHQ5W/Pz.LrKsz):Y5vor5K0nt84s”:x‘/gN3ntBR\"1qT2NwZnx!vKZE3N.w6r?f?T \n"
          ]
        }
      ],
      "source": [
        "print(decode(m.generate(idx = torch.zeros((1, 1), dtype=torch.long), max_new_tokens=500)[0].tolist()))"
      ]
    },
    {
      "cell_type": "markdown",
      "metadata": {
        "id": "tPb9rcNVRktD"
      },
      "source": [
        "#8. The trick in self-attention: matrix multiply as weight aggregation"
      ]
    },
    {
      "cell_type": "code",
      "execution_count": null,
      "metadata": {
        "colab": {
          "base_uri": "https://localhost:8080/"
        },
        "id": "AcwiGHGcSLoI",
        "outputId": "9ea1b2c7-cf5e-4698-f76c-6ce69c84486c"
      },
      "outputs": [
        {
          "output_type": "stream",
          "name": "stdout",
          "text": [
            "a=\n",
            "tensor([[1.0000, 0.0000, 0.0000],\n",
            "        [0.5000, 0.5000, 0.0000],\n",
            "        [0.3333, 0.3333, 0.3333]])\n",
            "--\n",
            "b=\n",
            "tensor([[2., 7.],\n",
            "        [6., 4.],\n",
            "        [6., 5.]])\n",
            "--\n",
            "c=\n",
            "tensor([[2.0000, 7.0000],\n",
            "        [4.0000, 5.5000],\n",
            "        [4.6667, 5.3333]])\n"
          ]
        }
      ],
      "source": [
        "# toy example illustrating how matrix multiplication can be used for a \"weighted aggregation\"\n",
        "torch.manual_seed(42)\n",
        "a = torch.tril(torch.ones(3, 3))\n",
        "a = a / torch.sum(a, 1, keepdim=True)\n",
        "b = torch.randint(0,10,(3,2)).float()\n",
        "c = a @ b\n",
        "print('a=')\n",
        "print(a)\n",
        "print('--')\n",
        "print('b=')\n",
        "print(b)\n",
        "print('--')\n",
        "print('c=')\n",
        "print(c)"
      ]
    },
    {
      "cell_type": "markdown",
      "metadata": {
        "id": "AHRcjq1NiT_M"
      },
      "source": []
    },
    {
      "cell_type": "code",
      "execution_count": null,
      "metadata": {
        "colab": {
          "base_uri": "https://localhost:8080/"
        },
        "id": "TkPhcJsvSRff",
        "outputId": "d38f3a1b-a131-4014-f617-80052b74c199"
      },
      "outputs": [
        {
          "output_type": "execute_result",
          "data": {
            "text/plain": [
              "torch.Size([4, 8, 2])"
            ]
          },
          "metadata": {},
          "execution_count": 21
        }
      ],
      "source": [
        "# consider the following toy example:\n",
        "\n",
        "torch.manual_seed(1337)\n",
        "B,T,C = 4,8,2 # batch, time, channels\n",
        "x = torch.randn(B,T,C)\n",
        "x.shape"
      ]
    },
    {
      "cell_type": "code",
      "execution_count": null,
      "metadata": {
        "id": "T-SCPrvMSV87"
      },
      "outputs": [],
      "source": [
        "# We want x[b,t] = mean_{i<=t} x[b,i]\n",
        "xbow = torch.zeros((B,T,C))\n",
        "for b in range(B):\n",
        "    for t in range(T):\n",
        "        xprev = x[b,:t+1] # (t,C)\n",
        "        xbow[b,t] = torch.mean(xprev, 0)"
      ]
    },
    {
      "cell_type": "markdown",
      "metadata": {
        "id": "zc7x_2ZOSwds"
      },
      "source": [
        "#9. V2: Using matrix multiplication"
      ]
    },
    {
      "cell_type": "code",
      "execution_count": null,
      "metadata": {
        "colab": {
          "base_uri": "https://localhost:8080/"
        },
        "id": "4Evfz-ziSpCY",
        "outputId": "419b4f76-4e98-4e70-fdf4-bf9c3df62657"
      },
      "outputs": [
        {
          "output_type": "execute_result",
          "data": {
            "text/plain": [
              "False"
            ]
          },
          "metadata": {},
          "execution_count": 23
        }
      ],
      "source": [
        "# version 2: using matrix multiply for a weighted aggregation\n",
        "wei = torch.tril(torch.ones(T, T))\n",
        "wei = wei / wei.sum(1, keepdim=True)\n",
        "xbow2 = wei @ x # (B, T, T) @ (B, T, C) ----> (B, T, C)\n",
        "torch.allclose(xbow, xbow2)"
      ]
    },
    {
      "cell_type": "markdown",
      "metadata": {
        "id": "HCeAMYnKS7iF"
      },
      "source": [
        "#10. V3. Adding softmax"
      ]
    },
    {
      "cell_type": "code",
      "execution_count": null,
      "metadata": {
        "colab": {
          "base_uri": "https://localhost:8080/"
        },
        "id": "ADZyCNR7THtR",
        "outputId": "9bb68303-76da-4829-b65b-48edc0059d6c"
      },
      "outputs": [
        {
          "output_type": "execute_result",
          "data": {
            "text/plain": [
              "False"
            ]
          },
          "metadata": {},
          "execution_count": 24
        }
      ],
      "source": [
        "# version 3: use Softmax\n",
        "tril = torch.tril(torch.ones(T, T))\n",
        "wei = torch.zeros((T,T))\n",
        "wei = wei.masked_fill(tril == 0, float('-inf'))\n",
        "wei = F.softmax(wei, dim=-1)\n",
        "xbow3 = wei @ x\n",
        "torch.allclose(xbow, xbow3)\n"
      ]
    },
    {
      "cell_type": "markdown",
      "metadata": {
        "id": "7Wgr06ZLTNvP"
      },
      "source": [
        "#12. V4. self attention"
      ]
    },
    {
      "cell_type": "code",
      "execution_count": null,
      "metadata": {
        "colab": {
          "base_uri": "https://localhost:8080/"
        },
        "id": "zzUOVIQ8Te8K",
        "outputId": "b0dd4679-0d24-4c4b-fe26-6c01bed39ffc"
      },
      "outputs": [
        {
          "output_type": "execute_result",
          "data": {
            "text/plain": [
              "torch.Size([4, 8, 16])"
            ]
          },
          "metadata": {},
          "execution_count": 25
        }
      ],
      "source": [
        "# version 4: self-attention!\n",
        "torch.manual_seed(1337)\n",
        "B,T,C = 4,8,32 # batch, time, channels\n",
        "x = torch.randn(B,T,C)\n",
        "\n",
        "# let's see a single Head perform self-attention\n",
        "head_size = 16\n",
        "key = nn.Linear(C, head_size, bias=False)\n",
        "query = nn.Linear(C, head_size, bias=False)\n",
        "value = nn.Linear(C, head_size, bias=False)\n",
        "k = key(x)   # (B, T, 16)\n",
        "q = query(x) # (B, T, 16)\n",
        "wei =  q @ k.transpose(-2, -1) # (B, T, 16) @ (B, 16, T) ---> (B, T, T)\n",
        "\n",
        "tril = torch.tril(torch.ones(T, T))\n",
        "#wei = torch.zeros((T,T))\n",
        "wei = wei.masked_fill(tril == 0, float('-inf'))\n",
        "wei = F.softmax(wei, dim=-1)\n",
        "\n",
        "v = value(x)\n",
        "out = wei @ v\n",
        "#out = wei @ x\n",
        "\n",
        "out.shape"
      ]
    },
    {
      "cell_type": "code",
      "execution_count": null,
      "metadata": {
        "colab": {
          "base_uri": "https://localhost:8080/"
        },
        "id": "O4LznjneTjur",
        "outputId": "a1221549-3064-429e-a211-385013f7aa8d"
      },
      "outputs": [
        {
          "output_type": "execute_result",
          "data": {
            "text/plain": [
              "tensor([[1.0000, 0.0000, 0.0000, 0.0000, 0.0000, 0.0000, 0.0000, 0.0000],\n",
              "        [0.1574, 0.8426, 0.0000, 0.0000, 0.0000, 0.0000, 0.0000, 0.0000],\n",
              "        [0.2088, 0.1646, 0.6266, 0.0000, 0.0000, 0.0000, 0.0000, 0.0000],\n",
              "        [0.5792, 0.1187, 0.1889, 0.1131, 0.0000, 0.0000, 0.0000, 0.0000],\n",
              "        [0.0294, 0.1052, 0.0469, 0.0276, 0.7909, 0.0000, 0.0000, 0.0000],\n",
              "        [0.0176, 0.2689, 0.0215, 0.0089, 0.6812, 0.0019, 0.0000, 0.0000],\n",
              "        [0.1691, 0.4066, 0.0438, 0.0416, 0.1048, 0.2012, 0.0329, 0.0000],\n",
              "        [0.0210, 0.0843, 0.0555, 0.2297, 0.0573, 0.0709, 0.2423, 0.2391]],\n",
              "       grad_fn=<SelectBackward0>)"
            ]
          },
          "metadata": {},
          "execution_count": 26
        }
      ],
      "source": [
        "wei[0]"
      ]
    },
    {
      "cell_type": "markdown",
      "metadata": {
        "id": "evGWJ5IQTNfh"
      },
      "source": [
        "#13. n1: attention as communication\n"
      ]
    },
    {
      "cell_type": "markdown",
      "metadata": {
        "id": "-8vhwrkKT1OL"
      },
      "source": [
        "Notes:\n",
        "\n",
        "1. Attention is a communication mechanism. Can be seen as nodes in a directed graph looking at each other and aggregating information with a weighted sum from all nodes that point to them, with data-dependent weights.\n",
        "2. There is no notion of space. Attention simply acts over a set of vectors. This is why we need to positionally encode tokens.\n",
        "3. Each example across batch dimension is of course processed completely independently and never \"talk\" to each other\n",
        "4.In an \"encoder\" attention block just delete the single line that does masking with tril, allowing all tokens to communicate. This block here is called a \"decoder\" attention block because it has triangular masking, and is usually used in autoregressive settings, like language modeling.\n",
        "5. \"self-attention\" just means that the keys and values are produced from the same source as queries. In \"cross-attention\", the queries still get produced from x, but the keys and values come from some other, external source (e.g. an encoder module)\n",
        "6. \"Scaled\" attention additional divides wei by 1/sqrt(head_size). This makes it so when input Q,K are unit variance, wei will be unit variance too and Softmax will stay diffuse and not saturate too much. Illustration below"
      ]
    },
    {
      "cell_type": "markdown",
      "metadata": {
        "id": "5kFVjkoXUWct"
      },
      "source": [
        "#14. Inserting a single self-attention block to our network"
      ]
    },
    {
      "cell_type": "code",
      "execution_count": null,
      "metadata": {
        "id": "pjkLK0DtTxvj"
      },
      "outputs": [],
      "source": [
        "k = torch.randn(B,T,head_size)\n",
        "q = torch.randn(B,T,head_size)\n",
        "wei = q @ k.transpose(-2, -1) * head_size**-0.5"
      ]
    },
    {
      "cell_type": "code",
      "execution_count": null,
      "metadata": {
        "colab": {
          "base_uri": "https://localhost:8080/"
        },
        "id": "BiiEcX2_UrTd",
        "outputId": "ba7c8db8-5d76-4552-8906-6c05184676c4"
      },
      "outputs": [
        {
          "output_type": "execute_result",
          "data": {
            "text/plain": [
              "tensor(1.0449)"
            ]
          },
          "metadata": {},
          "execution_count": 172
        }
      ],
      "source": [
        "k.var()"
      ]
    },
    {
      "cell_type": "code",
      "execution_count": null,
      "metadata": {
        "colab": {
          "base_uri": "https://localhost:8080/"
        },
        "id": "Sc-hkTO4VIzS",
        "outputId": "2f42f0e5-36d0-48c9-8325-11c077735ffd"
      },
      "outputs": [
        {
          "output_type": "execute_result",
          "data": {
            "text/plain": [
              "tensor(1.0700)"
            ]
          },
          "metadata": {},
          "execution_count": 173
        }
      ],
      "source": [
        "q.var()"
      ]
    },
    {
      "cell_type": "code",
      "execution_count": null,
      "metadata": {
        "colab": {
          "base_uri": "https://localhost:8080/"
        },
        "id": "68iTSVfuVP2Z",
        "outputId": "f290353e-9b9f-4104-ef6a-1010a69da6d3"
      },
      "outputs": [
        {
          "output_type": "execute_result",
          "data": {
            "text/plain": [
              "tensor(1.0918)"
            ]
          },
          "metadata": {},
          "execution_count": 174
        }
      ],
      "source": [
        "wei.var()"
      ]
    },
    {
      "cell_type": "code",
      "execution_count": null,
      "metadata": {
        "colab": {
          "base_uri": "https://localhost:8080/"
        },
        "id": "BDSch3WwVSdU",
        "outputId": "2ffb78ec-a810-4357-fbb6-53fc335b4068"
      },
      "outputs": [
        {
          "output_type": "execute_result",
          "data": {
            "text/plain": [
              "tensor([0.1925, 0.1426, 0.2351, 0.1426, 0.2872])"
            ]
          },
          "metadata": {},
          "execution_count": 175
        }
      ],
      "source": [
        "torch.softmax(torch.tensor([0.1, -0.2, 0.3, -0.2, 0.5]), dim=-1)"
      ]
    },
    {
      "cell_type": "code",
      "execution_count": null,
      "metadata": {
        "colab": {
          "base_uri": "https://localhost:8080/"
        },
        "id": "2wnWmXokVh_-",
        "outputId": "add3007b-052b-45f7-e728-94baa73f5d3c"
      },
      "outputs": [
        {
          "output_type": "execute_result",
          "data": {
            "text/plain": [
              "tensor([0.0326, 0.0030, 0.1615, 0.0030, 0.8000])"
            ]
          },
          "metadata": {},
          "execution_count": 176
        }
      ],
      "source": [
        "torch.softmax(torch.tensor([0.1, -0.2, 0.3, -0.2, 0.5])*8, dim=-1) # gets too peaky, converges to one-hot"
      ]
    },
    {
      "cell_type": "code",
      "execution_count": null,
      "metadata": {
        "colab": {
          "base_uri": "https://localhost:8080/"
        },
        "id": "o1BVAqFHVkof",
        "outputId": "73435738-bf1a-4023-bfae-b3f83f1e8e6e"
      },
      "outputs": [
        {
          "output_type": "execute_result",
          "data": {
            "text/plain": [
              "torch.Size([32, 100])"
            ]
          },
          "metadata": {},
          "execution_count": 177
        }
      ],
      "source": [
        "class LayerNorm1d: # (used to be BatchNorm1d)\n",
        "\n",
        "  def __init__(self, dim, eps=1e-5, momentum=0.1):\n",
        "    self.eps = eps\n",
        "    self.gamma = torch.ones(dim)\n",
        "    self.beta = torch.zeros(dim)\n",
        "\n",
        "  def __call__(self, x):\n",
        "    # calculate the forward pass\n",
        "    xmean = x.mean(1, keepdim=True) # batch mean\n",
        "    xvar = x.var(1, keepdim=True) # batch variance\n",
        "    xhat = (x - xmean) / torch.sqrt(xvar + self.eps) # normalize to unit variance\n",
        "    self.out = self.gamma * xhat + self.beta\n",
        "    return self.out\n",
        "\n",
        "  def parameters(self):\n",
        "    return [self.gamma, self.beta]\n",
        "\n",
        "torch.manual_seed(1337)\n",
        "module = LayerNorm1d(100)\n",
        "x = torch.randn(32, 100) # batch size 32 of 100-dimensional vectors\n",
        "x = module(x)\n",
        "x.shape"
      ]
    },
    {
      "cell_type": "code",
      "execution_count": null,
      "metadata": {
        "colab": {
          "base_uri": "https://localhost:8080/"
        },
        "id": "oMRL8gvEVpxY",
        "outputId": "595df959-6617-4ec5-f791-a3030f6c2812"
      },
      "outputs": [
        {
          "output_type": "execute_result",
          "data": {
            "text/plain": [
              "(tensor(0.1469), tensor(0.8803))"
            ]
          },
          "metadata": {},
          "execution_count": 178
        }
      ],
      "source": [
        "x[:,0].mean(), x[:,0].std() # mean,std of one feature across all batch inputs"
      ]
    },
    {
      "cell_type": "code",
      "execution_count": null,
      "metadata": {
        "id": "ML5-YitWVtrZ"
      },
      "outputs": [],
      "source": [
        "# French to English translation example:\n",
        "\n",
        "# <--------- ENCODE ------------------><--------------- DECODE ----------------->\n",
        "# les réseaux de neurones sont géniaux! <START> neural networks are awesome!<END>\n",
        "\n"
      ]
    },
    {
      "cell_type": "markdown",
      "metadata": {
        "id": "dKIlukc1WIu8"
      },
      "source": [
        "#15. Creating Model"
      ]
    },
    {
      "cell_type": "markdown",
      "metadata": {
        "id": "jsNz-qlW5EsN"
      },
      "source": []
    },
    {
      "cell_type": "code",
      "execution_count": null,
      "metadata": {
        "id": "VPCwf6jqWRMS"
      },
      "outputs": [],
      "source": [
        "import torch\n",
        "import torch.nn as nn\n",
        "from torch.nn import functional as F\n",
        "\n",
        "# hyperparameters\n",
        "batch_size = 16 # how many independent sequences will we process in parallel?\n",
        "block_size = 32 # what is the maximum context length for predictions?\n",
        "max_iters = 200\n",
        "eval_interval = 100\n",
        "learning_rate = 1e-3\n",
        "device = 'cuda' if torch.cuda.is_available() else 'cpu'\n",
        "eval_iters = 200\n",
        "n_embd = 64\n",
        "n_head = 4\n",
        "n_layer = 4\n",
        "dropout = 0.0\n",
        "# ------------\n",
        "\n",
        "torch.manual_seed(1337)\n",
        "\n",
        "# wget https://raw.githubusercontent.com/karpathy/char-rnn/master/data/tinyshakespeare/input.txt\n",
        "with open('/content/drive/MyDrive/saved_models/sorcerers-stone.txt', 'r', encoding='utf-8') as f:\n",
        "    text = f.read()\n",
        "\n",
        "# here are all the unique characters that occur in this text\n",
        "chars = sorted(list(set(text)))\n",
        "vocab_size = len(chars)\n",
        "# create a mapping from characters to integers\n",
        "stoi = { ch:i for i,ch in enumerate(chars) }\n",
        "itos = { i:ch for i,ch in enumerate(chars) }\n",
        "encode = lambda s: [stoi[c] for c in s] # encoder: take a string, output a list of integers\n",
        "decode = lambda l: ''.join([itos[i] for i in l]) # decoder: take a list of integers, output a string\n",
        "\n",
        "# Train and test splits\n",
        "data = torch.tensor(encode(text), dtype=torch.long)\n",
        "n = int(0.9*len(data)) # first 90% will be train, rest val\n",
        "train_data = data[:n]\n",
        "val_data = data[n:]\n",
        "\n",
        "# data loading\n",
        "def get_batch(split):\n",
        "    # generate a small batch of data of inputs x and targets y\n",
        "    data = train_data if split == 'train' else val_data\n",
        "    ix = torch.randint(len(data) - block_size, (batch_size,))\n",
        "    x = torch.stack([data[i:i+block_size] for i in ix])\n",
        "    y = torch.stack([data[i+1:i+block_size+1] for i in ix])\n",
        "    x, y = x.to(device), y.to(device)\n",
        "    return x, y\n",
        "\n",
        "@torch.no_grad()\n",
        "def estimate_loss():\n",
        "    out = {}\n",
        "    model.eval()\n",
        "    for split in ['train', 'val']:\n",
        "        losses = torch.zeros(eval_iters)\n",
        "        for k in range(eval_iters):\n",
        "            X, Y = get_batch(split)\n",
        "            logits, loss = model(X, Y)\n",
        "            losses[k] = loss.item()\n",
        "        out[split] = losses.mean()\n",
        "    model.train()\n",
        "    return out\n",
        "\n",
        "class Head(nn.Module):\n",
        "    \"\"\" one head of self-attention \"\"\"\n",
        "\n",
        "    def __init__(self, head_size):\n",
        "        super().__init__()\n",
        "        self.key = nn.Linear(n_embd, head_size, bias=False)\n",
        "        self.query = nn.Linear(n_embd, head_size, bias=False)\n",
        "        self.value = nn.Linear(n_embd, head_size, bias=False)\n",
        "        self.register_buffer('tril', torch.tril(torch.ones(block_size, block_size)))\n",
        "\n",
        "        self.dropout = nn.Dropout(dropout)\n",
        "\n",
        "    def forward(self, x):\n",
        "        B,T,C = x.shape\n",
        "        k = self.key(x)   # (B,T,C)\n",
        "        q = self.query(x) # (B,T,C)\n",
        "        # compute attention scores (\"affinities\")\n",
        "        wei = q @ k.transpose(-2,-1) * C**-0.5 # (B, T, C) @ (B, C, T) -> (B, T, T)\n",
        "        wei = wei.masked_fill(self.tril[:T, :T] == 0, float('-inf')) # (B, T, T)\n",
        "        wei = F.softmax(wei, dim=-1) # (B, T, T)\n",
        "        wei = self.dropout(wei)\n",
        "        # perform the weighted aggregation of the values\n",
        "        v = self.value(x) # (B,T,C)\n",
        "        out = wei @ v # (B, T, T) @ (B, T, C) -> (B, T, C)\n",
        "        return out\n",
        "\n",
        "class MultiHeadAttention(nn.Module):\n",
        "    \"\"\" multiple heads of self-attention in parallel \"\"\"\n",
        "\n",
        "    def __init__(self, num_heads, head_size):\n",
        "        super().__init__()\n",
        "        self.heads = nn.ModuleList([Head(head_size) for _ in range(num_heads)])\n",
        "        self.proj = nn.Linear(n_embd, n_embd)\n",
        "        self.dropout = nn.Dropout(dropout)\n",
        "\n",
        "    def forward(self, x):\n",
        "        out = torch.cat([h(x) for h in self.heads], dim=-1)\n",
        "        out = self.dropout(self.proj(out))\n",
        "        return out\n",
        "\n",
        "class FeedFoward(nn.Module):\n",
        "    \"\"\" a simple linear layer followed by a non-linearity \"\"\"\n",
        "\n",
        "    def __init__(self, n_embd):\n",
        "        super().__init__()\n",
        "        self.net = nn.Sequential(\n",
        "            nn.Linear(n_embd, 4 * n_embd),\n",
        "            nn.ReLU(),\n",
        "            nn.Linear(4 * n_embd, n_embd),\n",
        "            nn.Dropout(dropout),\n",
        "        )\n",
        "\n",
        "    def forward(self, x):\n",
        "        return self.net(x)\n",
        "\n",
        "class Block(nn.Module):\n",
        "    \"\"\" Transformer block: communication followed by computation \"\"\"\n",
        "\n",
        "    def __init__(self, n_embd, n_head):\n",
        "        # n_embd: embedding dimension, n_head: the number of heads we'd like\n",
        "        super().__init__()\n",
        "        head_size = n_embd // n_head\n",
        "        self.sa = MultiHeadAttention(n_head, head_size)\n",
        "        self.ffwd = FeedFoward(n_embd)\n",
        "        self.ln1 = nn.LayerNorm(n_embd)\n",
        "        self.ln2 = nn.LayerNorm(n_embd)\n",
        "\n",
        "    def forward(self, x):\n",
        "        x = x + self.sa(self.ln1(x))\n",
        "        x = x + self.ffwd(self.ln2(x))\n",
        "        return x\n",
        "\n",
        "# super simple bigram model\n",
        "class BigramLanguageModel(nn.Module):\n",
        "\n",
        "    def __init__(self):\n",
        "        super().__init__()\n",
        "        # each token directly reads off the logits for the next token from a lookup table\n",
        "        self.token_embedding_table = nn.Embedding(vocab_size, n_embd)\n",
        "        self.position_embedding_table = nn.Embedding(block_size, n_embd)\n",
        "        self.blocks = nn.Sequential(*[Block(n_embd, n_head=n_head) for _ in range(n_layer)])\n",
        "        self.ln_f = nn.LayerNorm(n_embd) # final layer norm\n",
        "        self.lm_head = nn.Linear(n_embd, vocab_size)\n",
        "\n",
        "    def forward(self, idx, targets=None):\n",
        "        B, T = idx.shape\n",
        "\n",
        "        # idx and targets are both (B,T) tensor of integers\n",
        "        tok_emb = self.token_embedding_table(idx) # (B,T,C)\n",
        "        pos_emb = self.position_embedding_table(torch.arange(T, device=device)) # (T,C)\n",
        "        x = tok_emb + pos_emb # (B,T,C)\n",
        "        x = self.blocks(x) # (B,T,C)\n",
        "        x = self.ln_f(x) # (B,T,C)\n",
        "        logits = self.lm_head(x) # (B,T,vocab_size)\n",
        "\n",
        "        if targets is None:\n",
        "            loss = None\n",
        "        else:\n",
        "            B, T, C = logits.shape\n",
        "            logits = logits.view(B*T, C)\n",
        "            targets = targets.view(B*T)\n",
        "            loss = F.cross_entropy(logits, targets)\n",
        "\n",
        "        return logits, loss\n",
        "\n",
        "    def generate(self, idx, max_new_tokens):\n",
        "        # idx is (B, T) array of indices in the current context\n",
        "        for _ in range(max_new_tokens):\n",
        "            # crop idx to the last block_size tokens\n",
        "            idx_cond = idx[:, -block_size:]\n",
        "            # get the predictions\n",
        "            logits, loss = self(idx_cond)\n",
        "            # focus only on the last time step\n",
        "            logits = logits[:, -1, :] # becomes (B, C)\n",
        "            # apply softmax to get probabilities\n",
        "            probs = F.softmax(logits, dim=-1) # (B, C)\n",
        "            # sample from the distribution\n",
        "            idx_next = torch.multinomial(probs, num_samples=1) # (B, 1)\n",
        "            # append sampled index to the running sequence\n",
        "            idx = torch.cat((idx, idx_next), dim=1) # (B, T+1)\n",
        "        return idx"
      ]
    },
    {
      "cell_type": "markdown",
      "source": [
        "#Creating Model 2"
      ],
      "metadata": {
        "id": "IfRqbxpcGXDb"
      }
    },
    {
      "cell_type": "code",
      "execution_count": null,
      "metadata": {
        "colab": {
          "base_uri": "https://localhost:8080/"
        },
        "id": "kUFNWtkaw8tl",
        "outputId": "4d15b608-eb36-497d-e8d0-2d40f5abbcdd"
      },
      "outputs": [
        {
          "output_type": "stream",
          "name": "stdout",
          "text": [
            "0.212051 M parameters\n"
          ]
        }
      ],
      "source": [
        "model = BigramLanguageModel()\n",
        "m = model.to(device)\n",
        "# print the number of parameters in the model\n",
        "print(sum(p.numel() for p in m.parameters())/1e6, 'M parameters')\n",
        "\n",
        "# create a PyTorch optimizer\n",
        "optimizer = torch.optim.AdamW(model.parameters(), lr=learning_rate)"
      ]
    },
    {
      "cell_type": "code",
      "source": [
        "import torch\n",
        "import torch.nn as nn\n",
        "from torch.nn import functional as F\n",
        "import keepsake\n",
        "import matplotlib.pyplot as plt\n",
        "\n",
        "# hyperparameters\n",
        "batch_size = 16\n",
        "block_size = 32\n",
        "max_iters = 1000\n",
        "eval_interval = 50\n",
        "learning_rate = 1e-3\n",
        "device = 'cuda' if torch.cuda.is_available() else 'cpu'\n",
        "eval_iters = 200\n",
        "n_embd = 64\n",
        "n_head = 2\n",
        "n_layer = 6\n",
        "dropout = 0.0\n",
        "\n",
        "torch.manual_seed(1337)\n",
        "\n",
        "# Initialize the experiment with hyperparameters\n",
        "experiment = keepsake.init(\n",
        "    params={\"batch_size\": batch_size, \"block_size\": block_size, \"max_iters\": max_iters, \"learning_rate\": learning_rate},\n",
        ")\n",
        "\n",
        "# Your existing code here...\n",
        "\n",
        "train_losses = []\n",
        "val_losses = []\n",
        "\n",
        "for iter in range(max_iters):\n",
        "    model.train()\n",
        "\n",
        "    # every once in a while evaluate the loss on train and val sets\n",
        "    if iter % eval_interval == 0 or iter == max_iters - 1:\n",
        "        losses = estimate_loss()\n",
        "        print(f\"step {iter}: train loss {losses['train']:.4f}, val loss {losses['val']:.4f}\")\n",
        "\n",
        "        torch.save(model, \"model.pth\")\n",
        "        # Create a checkpoint within the experiment.\n",
        "        # This saves the metrics at that point, and makes a copy of the file\n",
        "        # or directory given, which could weights and any other artifacts.\n",
        "        experiment.checkpoint(\n",
        "            path=\"model.pth\",\n",
        "            step=iter,\n",
        "            primary_metric=(\"loss\", \"minimize\"),\n",
        "        )\n",
        "\n",
        "    # Save the training and validation losses\n",
        "    train_losses.append(losses['train'])\n",
        "    val_losses.append(losses['val'])\n",
        "\n",
        "    # sample a batch of data\n",
        "    xb, yb = get_batch('train')\n",
        "\n",
        "    # evaluate the loss\n",
        "    logits, loss = model(xb, yb)\n",
        "    optimizer.zero_grad(set_to_none=True)\n",
        "    loss.backward()\n",
        "    optimizer.step()\n",
        "\n",
        "# Plot the training and validation loss values\n",
        "plt.figure(figsize=(10, 6))\n",
        "plt.plot(range(len(train_losses)), train_losses, label='Training Loss')\n",
        "plt.plot(range(len(val_losses)), val_losses, label='Validation Loss')\n",
        "plt.xlabel('Iterations')\n",
        "plt.ylabel('Loss')\n",
        "plt.title('Training and Validation Loss')\n",
        "plt.legend()\n",
        "plt.savefig('training_validation_loss_plot.png')\n",
        "\n",
        "# Log the plot as an artifact within the Keepsake experiment\n",
        "experiment.checkpoint(\n",
        "    path='training_validation_loss_plot(n=4).png',\n",
        "    step=max_iters,\n",
        "    primary_metric=(\"loss\", \"minimize\"),\n",
        ")\n",
        "\n",
        "# Mark the end of the experiment\n",
        "experiment.stop()"
      ],
      "metadata": {
        "colab": {
          "base_uri": "https://localhost:8080/",
          "height": 1000
        },
        "id": "XQTVl8knWDph",
        "outputId": "72509a5f-c511-4db8-cdc1-3d3454a2b312"
      },
      "execution_count": null,
      "outputs": [
        {
          "output_type": "stream",
          "name": "stderr",
          "text": [
            "\u001b[2m═══╡ \u001b[0mCreating experiment 363d2c9...\n",
            "\u001b[2m═══╡ \u001b[0mCreating checkpoint 79ced17, copying 'model.pth' to 'file:///content/.keepsake' in the background...\n"
          ]
        },
        {
          "output_type": "stream",
          "name": "stdout",
          "text": [
            "step 0: train loss 4.6271, val loss 4.6277\n"
          ]
        },
        {
          "output_type": "stream",
          "name": "stderr",
          "text": [
            "\u001b[2m═══╡ \u001b[0mCreating checkpoint a08e1f1, copying 'model.pth' to 'file:///content/.keepsake' in the background...\n"
          ]
        },
        {
          "output_type": "stream",
          "name": "stdout",
          "text": [
            "step 50: train loss 4.6262, val loss 4.6280\n"
          ]
        },
        {
          "output_type": "stream",
          "name": "stderr",
          "text": [
            "\u001b[2m═══╡ \u001b[0mCreating checkpoint 17a8615, copying 'model.pth' to 'file:///content/.keepsake' in the background...\n"
          ]
        },
        {
          "output_type": "stream",
          "name": "stdout",
          "text": [
            "step 100: train loss 4.6249, val loss 4.6248\n"
          ]
        },
        {
          "output_type": "stream",
          "name": "stderr",
          "text": [
            "\u001b[2m═══╡ \u001b[0mCreating checkpoint 56c14fe, copying 'model.pth' to 'file:///content/.keepsake' in the background...\n"
          ]
        },
        {
          "output_type": "stream",
          "name": "stdout",
          "text": [
            "step 150: train loss 4.6287, val loss 4.6303\n"
          ]
        },
        {
          "output_type": "stream",
          "name": "stderr",
          "text": [
            "\u001b[2m═══╡ \u001b[0mCreating checkpoint df300f5, copying 'model.pth' to 'file:///content/.keepsake' in the background...\n"
          ]
        },
        {
          "output_type": "stream",
          "name": "stdout",
          "text": [
            "step 200: train loss 4.6241, val loss 4.6228\n"
          ]
        },
        {
          "output_type": "stream",
          "name": "stderr",
          "text": [
            "\u001b[2m═══╡ \u001b[0mCreating checkpoint 958017b, copying 'model.pth' to 'file:///content/.keepsake' in the background...\n"
          ]
        },
        {
          "output_type": "stream",
          "name": "stdout",
          "text": [
            "step 250: train loss 4.6285, val loss 4.6308\n"
          ]
        },
        {
          "output_type": "stream",
          "name": "stderr",
          "text": [
            "\u001b[2m═══╡ \u001b[0mCreating checkpoint 07bd353, copying 'model.pth' to 'file:///content/.keepsake' in the background...\n"
          ]
        },
        {
          "output_type": "stream",
          "name": "stdout",
          "text": [
            "step 300: train loss 4.6275, val loss 4.6289\n"
          ]
        },
        {
          "output_type": "stream",
          "name": "stderr",
          "text": [
            "\u001b[2m═══╡ \u001b[0mCreating checkpoint 3dee7d8, copying 'model.pth' to 'file:///content/.keepsake' in the background...\n"
          ]
        },
        {
          "output_type": "stream",
          "name": "stdout",
          "text": [
            "step 350: train loss 4.6269, val loss 4.6286\n"
          ]
        },
        {
          "output_type": "stream",
          "name": "stderr",
          "text": [
            "\u001b[2m═══╡ \u001b[0mCreating checkpoint 2221360, copying 'model.pth' to 'file:///content/.keepsake' in the background...\n"
          ]
        },
        {
          "output_type": "stream",
          "name": "stdout",
          "text": [
            "step 400: train loss 4.6255, val loss 4.6239\n"
          ]
        },
        {
          "output_type": "stream",
          "name": "stderr",
          "text": [
            "\u001b[2m═══╡ \u001b[0mCreating checkpoint f66ad1b, copying 'model.pth' to 'file:///content/.keepsake' in the background...\n"
          ]
        },
        {
          "output_type": "stream",
          "name": "stdout",
          "text": [
            "step 450: train loss 4.6261, val loss 4.6265\n"
          ]
        },
        {
          "output_type": "stream",
          "name": "stderr",
          "text": [
            "\u001b[2m═══╡ \u001b[0mCreating checkpoint 737b1fe, copying 'model.pth' to 'file:///content/.keepsake' in the background...\n"
          ]
        },
        {
          "output_type": "stream",
          "name": "stdout",
          "text": [
            "step 500: train loss 4.6235, val loss 4.6292\n"
          ]
        },
        {
          "output_type": "stream",
          "name": "stderr",
          "text": [
            "\u001b[2m═══╡ \u001b[0mCreating checkpoint 23ea871, copying 'model.pth' to 'file:///content/.keepsake' in the background...\n"
          ]
        },
        {
          "output_type": "stream",
          "name": "stdout",
          "text": [
            "step 550: train loss 4.6266, val loss 4.6256\n"
          ]
        },
        {
          "output_type": "stream",
          "name": "stderr",
          "text": [
            "\u001b[2m═══╡ \u001b[0mCreating checkpoint 97f5955, copying 'model.pth' to 'file:///content/.keepsake' in the background...\n"
          ]
        },
        {
          "output_type": "stream",
          "name": "stdout",
          "text": [
            "step 600: train loss 4.6270, val loss 4.6272\n"
          ]
        },
        {
          "output_type": "stream",
          "name": "stderr",
          "text": [
            "\u001b[2m═══╡ \u001b[0mCreating checkpoint 147965c, copying 'model.pth' to 'file:///content/.keepsake' in the background...\n"
          ]
        },
        {
          "output_type": "stream",
          "name": "stdout",
          "text": [
            "step 650: train loss 4.6246, val loss 4.6254\n"
          ]
        },
        {
          "output_type": "stream",
          "name": "stderr",
          "text": [
            "\u001b[2m═══╡ \u001b[0mCreating checkpoint b6473d2, copying 'model.pth' to 'file:///content/.keepsake' in the background...\n"
          ]
        },
        {
          "output_type": "stream",
          "name": "stdout",
          "text": [
            "step 700: train loss 4.6230, val loss 4.6224\n"
          ]
        },
        {
          "output_type": "stream",
          "name": "stderr",
          "text": [
            "\u001b[2m═══╡ \u001b[0mCreating checkpoint 407522b, copying 'model.pth' to 'file:///content/.keepsake' in the background...\n"
          ]
        },
        {
          "output_type": "stream",
          "name": "stdout",
          "text": [
            "step 750: train loss 4.6281, val loss 4.6278\n"
          ]
        },
        {
          "output_type": "stream",
          "name": "stderr",
          "text": [
            "\u001b[2m═══╡ \u001b[0mCreating checkpoint 21a28c0, copying 'model.pth' to 'file:///content/.keepsake' in the background...\n"
          ]
        },
        {
          "output_type": "stream",
          "name": "stdout",
          "text": [
            "step 800: train loss 4.6255, val loss 4.6265\n"
          ]
        },
        {
          "output_type": "stream",
          "name": "stderr",
          "text": [
            "\u001b[2m═══╡ \u001b[0mCreating checkpoint f4ecaa0, copying 'model.pth' to 'file:///content/.keepsake' in the background...\n"
          ]
        },
        {
          "output_type": "stream",
          "name": "stdout",
          "text": [
            "step 850: train loss 4.6309, val loss 4.6261\n"
          ]
        },
        {
          "output_type": "stream",
          "name": "stderr",
          "text": [
            "\u001b[2m═══╡ \u001b[0mCreating checkpoint 148f9b2, copying 'model.pth' to 'file:///content/.keepsake' in the background...\n"
          ]
        },
        {
          "output_type": "stream",
          "name": "stdout",
          "text": [
            "step 900: train loss 4.6280, val loss 4.6268\n"
          ]
        },
        {
          "output_type": "stream",
          "name": "stderr",
          "text": [
            "\u001b[2m═══╡ \u001b[0mCreating checkpoint a985407, copying 'model.pth' to 'file:///content/.keepsake' in the background...\n"
          ]
        },
        {
          "output_type": "stream",
          "name": "stdout",
          "text": [
            "step 950: train loss 4.6295, val loss 4.6240\n"
          ]
        },
        {
          "output_type": "stream",
          "name": "stderr",
          "text": [
            "\u001b[2m═══╡ \u001b[0mCreating checkpoint 055da31, copying 'model.pth' to 'file:///content/.keepsake' in the background...\n"
          ]
        },
        {
          "output_type": "stream",
          "name": "stdout",
          "text": [
            "step 999: train loss 4.6248, val loss 4.6281\n"
          ]
        },
        {
          "output_type": "stream",
          "name": "stderr",
          "text": [
            "\u001b[2m═══╡ \u001b[0mCreating checkpoint c52a2f1, copying 'training_validation_loss_plot(n=4).png' to 'file:///content/.keepsake' in the background...\n",
            "═══╡ Error creating checkpoint: Failed to copy files to temporary directory: No files matched 'training_validation_loss_plot(n=4).png' in /content\n"
          ]
        },
        {
          "output_type": "display_data",
          "data": {
            "text/plain": [
              "<Figure size 1000x600 with 1 Axes>"
            ],
            "image/png": "[encoded data removed]"
          },
          "metadata": {}
        }
      ]
    },
    {
      "cell_type": "code",
      "source": [
        "# Save the final model with the name 'n4_model.pth'\n",
        "torch.save(model, \"/content/n4_model.h5\")"
      ],
      "metadata": {
        "id": "aj7YYVXdrXcd"
      },
      "execution_count": null,
      "outputs": []
    },
    {
      "cell_type": "markdown",
      "source": [],
      "metadata": {
        "id": "VyPL9p3wr2wu"
      }
    },
    {
      "cell_type": "code",
      "source": [
        "model = torch.load(\"n4_model.h5\")\n",
        "model.eval()\n",
        "\n",
        "# Run the model on a sample input for inference\n",
        "sample_input = torch.randn(batch_size, block_size).to(device)\n",
        "output = model(sample_input)\n",
        "\n",
        "# Print the output or perform further inference tasks\n",
        "print(\"Model output:\", output)\n",
        "\n",
        "# Mark the end of the experiment\n",
        "experiment.stop()"
      ],
      "metadata": {
        "colab": {
          "base_uri": "https://localhost:8080/",
          "height": 443
        },
        "id": "uyhMMSDFsVU5",
        "outputId": "60d765ee-ea72-474c-a83c-0ade7fe6a0ed"
      },
      "execution_count": null,
      "outputs": [
        {
          "output_type": "error",
          "ename": "RuntimeError",
          "evalue": "Expected tensor for argument #1 'indices' to have one of the following scalar types: Long, Int; but got torch.FloatTensor instead (while checking arguments for embedding)",
          "traceback": [
            "\u001b[0;31m---------------------------------------------------------------------------\u001b[0m",
            "\u001b[0;31mRuntimeError\u001b[0m                              Traceback (most recent call last)",
            "\u001b[0;32m<ipython-input-58-67613d2fbf31>\u001b[0m in \u001b[0;36m<cell line: 6>\u001b[0;34m()\u001b[0m\n\u001b[1;32m      4\u001b[0m \u001b[0;31m# Run the model on a sample input for inference\u001b[0m\u001b[0;34m\u001b[0m\u001b[0;34m\u001b[0m\u001b[0m\n\u001b[1;32m      5\u001b[0m \u001b[0msample_input\u001b[0m \u001b[0;34m=\u001b[0m \u001b[0mtorch\u001b[0m\u001b[0;34m.\u001b[0m\u001b[0mrandn\u001b[0m\u001b[0;34m(\u001b[0m\u001b[0mbatch_size\u001b[0m\u001b[0;34m,\u001b[0m \u001b[0mblock_size\u001b[0m\u001b[0;34m)\u001b[0m\u001b[0;34m.\u001b[0m\u001b[0mto\u001b[0m\u001b[0;34m(\u001b[0m\u001b[0mdevice\u001b[0m\u001b[0;34m)\u001b[0m\u001b[0;34m\u001b[0m\u001b[0;34m\u001b[0m\u001b[0m\n\u001b[0;32m----> 6\u001b[0;31m \u001b[0moutput\u001b[0m \u001b[0;34m=\u001b[0m \u001b[0mmodel\u001b[0m\u001b[0;34m(\u001b[0m\u001b[0msample_input\u001b[0m\u001b[0;34m)\u001b[0m\u001b[0;34m\u001b[0m\u001b[0;34m\u001b[0m\u001b[0m\n\u001b[0m\u001b[1;32m      7\u001b[0m \u001b[0;34m\u001b[0m\u001b[0m\n\u001b[1;32m      8\u001b[0m \u001b[0;31m# Print the output or perform further inference tasks\u001b[0m\u001b[0;34m\u001b[0m\u001b[0;34m\u001b[0m\u001b[0m\n",
            "\u001b[0;32m/usr/local/lib/python3.10/dist-packages/torch/nn/modules/module.py\u001b[0m in \u001b[0;36m_wrapped_call_impl\u001b[0;34m(self, *args, **kwargs)\u001b[0m\n\u001b[1;32m   1509\u001b[0m             \u001b[0;32mreturn\u001b[0m \u001b[0mself\u001b[0m\u001b[0;34m.\u001b[0m\u001b[0m_compiled_call_impl\u001b[0m\u001b[0;34m(\u001b[0m\u001b[0;34m*\u001b[0m\u001b[0margs\u001b[0m\u001b[0;34m,\u001b[0m \u001b[0;34m**\u001b[0m\u001b[0mkwargs\u001b[0m\u001b[0;34m)\u001b[0m  \u001b[0;31m# type: ignore[misc]\u001b[0m\u001b[0;34m\u001b[0m\u001b[0;34m\u001b[0m\u001b[0m\n\u001b[1;32m   1510\u001b[0m         \u001b[0;32melse\u001b[0m\u001b[0;34m:\u001b[0m\u001b[0;34m\u001b[0m\u001b[0;34m\u001b[0m\u001b[0m\n\u001b[0;32m-> 1511\u001b[0;31m             \u001b[0;32mreturn\u001b[0m \u001b[0mself\u001b[0m\u001b[0;34m.\u001b[0m\u001b[0m_call_impl\u001b[0m\u001b[0;34m(\u001b[0m\u001b[0;34m*\u001b[0m\u001b[0margs\u001b[0m\u001b[0;34m,\u001b[0m \u001b[0;34m**\u001b[0m\u001b[0mkwargs\u001b[0m\u001b[0;34m)\u001b[0m\u001b[0;34m\u001b[0m\u001b[0;34m\u001b[0m\u001b[0m\n\u001b[0m\u001b[1;32m   1512\u001b[0m \u001b[0;34m\u001b[0m\u001b[0m\n\u001b[1;32m   1513\u001b[0m     \u001b[0;32mdef\u001b[0m \u001b[0m_call_impl\u001b[0m\u001b[0;34m(\u001b[0m\u001b[0mself\u001b[0m\u001b[0;34m,\u001b[0m \u001b[0;34m*\u001b[0m\u001b[0margs\u001b[0m\u001b[0;34m,\u001b[0m \u001b[0;34m**\u001b[0m\u001b[0mkwargs\u001b[0m\u001b[0;34m)\u001b[0m\u001b[0;34m:\u001b[0m\u001b[0;34m\u001b[0m\u001b[0;34m\u001b[0m\u001b[0m\n",
            "\u001b[0;32m/usr/local/lib/python3.10/dist-packages/torch/nn/modules/module.py\u001b[0m in \u001b[0;36m_call_impl\u001b[0;34m(self, *args, **kwargs)\u001b[0m\n\u001b[1;32m   1518\u001b[0m                 \u001b[0;32mor\u001b[0m \u001b[0m_global_backward_pre_hooks\u001b[0m \u001b[0;32mor\u001b[0m \u001b[0m_global_backward_hooks\u001b[0m\u001b[0;34m\u001b[0m\u001b[0;34m\u001b[0m\u001b[0m\n\u001b[1;32m   1519\u001b[0m                 or _global_forward_hooks or _global_forward_pre_hooks):\n\u001b[0;32m-> 1520\u001b[0;31m             \u001b[0;32mreturn\u001b[0m \u001b[0mforward_call\u001b[0m\u001b[0;34m(\u001b[0m\u001b[0;34m*\u001b[0m\u001b[0margs\u001b[0m\u001b[0;34m,\u001b[0m \u001b[0;34m**\u001b[0m\u001b[0mkwargs\u001b[0m\u001b[0;34m)\u001b[0m\u001b[0;34m\u001b[0m\u001b[0;34m\u001b[0m\u001b[0m\n\u001b[0m\u001b[1;32m   1521\u001b[0m \u001b[0;34m\u001b[0m\u001b[0m\n\u001b[1;32m   1522\u001b[0m         \u001b[0;32mtry\u001b[0m\u001b[0;34m:\u001b[0m\u001b[0;34m\u001b[0m\u001b[0;34m\u001b[0m\u001b[0m\n",
            "\u001b[0;32m<ipython-input-27-507b7e4f4bad>\u001b[0m in \u001b[0;36mforward\u001b[0;34m(self, idx, targets)\u001b[0m\n\u001b[1;32m    150\u001b[0m \u001b[0;34m\u001b[0m\u001b[0m\n\u001b[1;32m    151\u001b[0m         \u001b[0;31m# idx and targets are both (B,T) tensor of integers\u001b[0m\u001b[0;34m\u001b[0m\u001b[0;34m\u001b[0m\u001b[0m\n\u001b[0;32m--> 152\u001b[0;31m         \u001b[0mtok_emb\u001b[0m \u001b[0;34m=\u001b[0m \u001b[0mself\u001b[0m\u001b[0;34m.\u001b[0m\u001b[0mtoken_embedding_table\u001b[0m\u001b[0;34m(\u001b[0m\u001b[0midx\u001b[0m\u001b[0;34m)\u001b[0m \u001b[0;31m# (B,T,C)\u001b[0m\u001b[0;34m\u001b[0m\u001b[0;34m\u001b[0m\u001b[0m\n\u001b[0m\u001b[1;32m    153\u001b[0m         \u001b[0mpos_emb\u001b[0m \u001b[0;34m=\u001b[0m \u001b[0mself\u001b[0m\u001b[0;34m.\u001b[0m\u001b[0mposition_embedding_table\u001b[0m\u001b[0;34m(\u001b[0m\u001b[0mtorch\u001b[0m\u001b[0;34m.\u001b[0m\u001b[0marange\u001b[0m\u001b[0;34m(\u001b[0m\u001b[0mT\u001b[0m\u001b[0;34m,\u001b[0m \u001b[0mdevice\u001b[0m\u001b[0;34m=\u001b[0m\u001b[0mdevice\u001b[0m\u001b[0;34m)\u001b[0m\u001b[0;34m)\u001b[0m \u001b[0;31m# (T,C)\u001b[0m\u001b[0;34m\u001b[0m\u001b[0;34m\u001b[0m\u001b[0m\n\u001b[1;32m    154\u001b[0m         \u001b[0mx\u001b[0m \u001b[0;34m=\u001b[0m \u001b[0mtok_emb\u001b[0m \u001b[0;34m+\u001b[0m \u001b[0mpos_emb\u001b[0m \u001b[0;31m# (B,T,C)\u001b[0m\u001b[0;34m\u001b[0m\u001b[0;34m\u001b[0m\u001b[0m\n",
            "\u001b[0;32m/usr/local/lib/python3.10/dist-packages/torch/nn/modules/module.py\u001b[0m in \u001b[0;36m_wrapped_call_impl\u001b[0;34m(self, *args, **kwargs)\u001b[0m\n\u001b[1;32m   1509\u001b[0m             \u001b[0;32mreturn\u001b[0m \u001b[0mself\u001b[0m\u001b[0;34m.\u001b[0m\u001b[0m_compiled_call_impl\u001b[0m\u001b[0;34m(\u001b[0m\u001b[0;34m*\u001b[0m\u001b[0margs\u001b[0m\u001b[0;34m,\u001b[0m \u001b[0;34m**\u001b[0m\u001b[0mkwargs\u001b[0m\u001b[0;34m)\u001b[0m  \u001b[0;31m# type: ignore[misc]\u001b[0m\u001b[0;34m\u001b[0m\u001b[0;34m\u001b[0m\u001b[0m\n\u001b[1;32m   1510\u001b[0m         \u001b[0;32melse\u001b[0m\u001b[0;34m:\u001b[0m\u001b[0;34m\u001b[0m\u001b[0;34m\u001b[0m\u001b[0m\n\u001b[0;32m-> 1511\u001b[0;31m             \u001b[0;32mreturn\u001b[0m \u001b[0mself\u001b[0m\u001b[0;34m.\u001b[0m\u001b[0m_call_impl\u001b[0m\u001b[0;34m(\u001b[0m\u001b[0;34m*\u001b[0m\u001b[0margs\u001b[0m\u001b[0;34m,\u001b[0m \u001b[0;34m**\u001b[0m\u001b[0mkwargs\u001b[0m\u001b[0;34m)\u001b[0m\u001b[0;34m\u001b[0m\u001b[0;34m\u001b[0m\u001b[0m\n\u001b[0m\u001b[1;32m   1512\u001b[0m \u001b[0;34m\u001b[0m\u001b[0m\n\u001b[1;32m   1513\u001b[0m     \u001b[0;32mdef\u001b[0m \u001b[0m_call_impl\u001b[0m\u001b[0;34m(\u001b[0m\u001b[0mself\u001b[0m\u001b[0;34m,\u001b[0m \u001b[0;34m*\u001b[0m\u001b[0margs\u001b[0m\u001b[0;34m,\u001b[0m \u001b[0;34m**\u001b[0m\u001b[0mkwargs\u001b[0m\u001b[0;34m)\u001b[0m\u001b[0;34m:\u001b[0m\u001b[0;34m\u001b[0m\u001b[0;34m\u001b[0m\u001b[0m\n",
            "\u001b[0;32m/usr/local/lib/python3.10/dist-packages/torch/nn/modules/module.py\u001b[0m in \u001b[0;36m_call_impl\u001b[0;34m(self, *args, **kwargs)\u001b[0m\n\u001b[1;32m   1518\u001b[0m                 \u001b[0;32mor\u001b[0m \u001b[0m_global_backward_pre_hooks\u001b[0m \u001b[0;32mor\u001b[0m \u001b[0m_global_backward_hooks\u001b[0m\u001b[0;34m\u001b[0m\u001b[0;34m\u001b[0m\u001b[0m\n\u001b[1;32m   1519\u001b[0m                 or _global_forward_hooks or _global_forward_pre_hooks):\n\u001b[0;32m-> 1520\u001b[0;31m             \u001b[0;32mreturn\u001b[0m \u001b[0mforward_call\u001b[0m\u001b[0;34m(\u001b[0m\u001b[0;34m*\u001b[0m\u001b[0margs\u001b[0m\u001b[0;34m,\u001b[0m \u001b[0;34m**\u001b[0m\u001b[0mkwargs\u001b[0m\u001b[0;34m)\u001b[0m\u001b[0;34m\u001b[0m\u001b[0;34m\u001b[0m\u001b[0m\n\u001b[0m\u001b[1;32m   1521\u001b[0m \u001b[0;34m\u001b[0m\u001b[0m\n\u001b[1;32m   1522\u001b[0m         \u001b[0;32mtry\u001b[0m\u001b[0;34m:\u001b[0m\u001b[0;34m\u001b[0m\u001b[0;34m\u001b[0m\u001b[0m\n",
            "\u001b[0;32m/usr/local/lib/python3.10/dist-packages/torch/nn/modules/sparse.py\u001b[0m in \u001b[0;36mforward\u001b[0;34m(self, input)\u001b[0m\n\u001b[1;32m    161\u001b[0m \u001b[0;34m\u001b[0m\u001b[0m\n\u001b[1;32m    162\u001b[0m     \u001b[0;32mdef\u001b[0m \u001b[0mforward\u001b[0m\u001b[0;34m(\u001b[0m\u001b[0mself\u001b[0m\u001b[0;34m,\u001b[0m \u001b[0minput\u001b[0m\u001b[0;34m:\u001b[0m \u001b[0mTensor\u001b[0m\u001b[0;34m)\u001b[0m \u001b[0;34m->\u001b[0m \u001b[0mTensor\u001b[0m\u001b[0;34m:\u001b[0m\u001b[0;34m\u001b[0m\u001b[0;34m\u001b[0m\u001b[0m\n\u001b[0;32m--> 163\u001b[0;31m         return F.embedding(\n\u001b[0m\u001b[1;32m    164\u001b[0m             \u001b[0minput\u001b[0m\u001b[0;34m,\u001b[0m \u001b[0mself\u001b[0m\u001b[0;34m.\u001b[0m\u001b[0mweight\u001b[0m\u001b[0;34m,\u001b[0m \u001b[0mself\u001b[0m\u001b[0;34m.\u001b[0m\u001b[0mpadding_idx\u001b[0m\u001b[0;34m,\u001b[0m \u001b[0mself\u001b[0m\u001b[0;34m.\u001b[0m\u001b[0mmax_norm\u001b[0m\u001b[0;34m,\u001b[0m\u001b[0;34m\u001b[0m\u001b[0;34m\u001b[0m\u001b[0m\n\u001b[1;32m    165\u001b[0m             self.norm_type, self.scale_grad_by_freq, self.sparse)\n",
            "\u001b[0;32m/usr/local/lib/python3.10/dist-packages/torch/nn/functional.py\u001b[0m in \u001b[0;36membedding\u001b[0;34m(input, weight, padding_idx, max_norm, norm_type, scale_grad_by_freq, sparse)\u001b[0m\n\u001b[1;32m   2235\u001b[0m         \u001b[0;31m# remove once script supports set_grad_enabled\u001b[0m\u001b[0;34m\u001b[0m\u001b[0;34m\u001b[0m\u001b[0m\n\u001b[1;32m   2236\u001b[0m         \u001b[0m_no_grad_embedding_renorm_\u001b[0m\u001b[0;34m(\u001b[0m\u001b[0mweight\u001b[0m\u001b[0;34m,\u001b[0m \u001b[0minput\u001b[0m\u001b[0;34m,\u001b[0m \u001b[0mmax_norm\u001b[0m\u001b[0;34m,\u001b[0m \u001b[0mnorm_type\u001b[0m\u001b[0;34m)\u001b[0m\u001b[0;34m\u001b[0m\u001b[0;34m\u001b[0m\u001b[0m\n\u001b[0;32m-> 2237\u001b[0;31m     \u001b[0;32mreturn\u001b[0m \u001b[0mtorch\u001b[0m\u001b[0;34m.\u001b[0m\u001b[0membedding\u001b[0m\u001b[0;34m(\u001b[0m\u001b[0mweight\u001b[0m\u001b[0;34m,\u001b[0m \u001b[0minput\u001b[0m\u001b[0;34m,\u001b[0m \u001b[0mpadding_idx\u001b[0m\u001b[0;34m,\u001b[0m \u001b[0mscale_grad_by_freq\u001b[0m\u001b[0;34m,\u001b[0m \u001b[0msparse\u001b[0m\u001b[0;34m)\u001b[0m\u001b[0;34m\u001b[0m\u001b[0;34m\u001b[0m\u001b[0m\n\u001b[0m\u001b[1;32m   2238\u001b[0m \u001b[0;34m\u001b[0m\u001b[0m\n\u001b[1;32m   2239\u001b[0m \u001b[0;34m\u001b[0m\u001b[0m\n",
            "\u001b[0;31mRuntimeError\u001b[0m: Expected tensor for argument #1 'indices' to have one of the following scalar types: Long, Int; but got torch.FloatTensor instead (while checking arguments for embedding)"
          ]
        }
      ]
    },
    {
      "cell_type": "code",
      "source": [
        "\n",
        "# Load the model and move it to the same device as the tokens\n",
        "model = BigramLanguageModel().to(device)\n",
        "state_dict = torch.load('/content/drive/MyDrive/saved_models/modelboy_l6.h5')\n",
        "model.load_state_dict(state_dict)\n",
        "model.eval()\n",
        "\n",
        "# Tokenize the starting prompt\n",
        "prompt = \"what is the difference between harry and hagrid\"\n",
        "tokens = torch.tensor(encode(prompt), dtype=torch.long).unsqueeze(0).to(device)\n",
        "\n",
        "# Generate the conversation\n",
        "max_tokens = 2000\n",
        "word_count = 0\n",
        "\n",
        "# Generate up to max_tokens words\n",
        "for _ in range(max_tokens):\n",
        "    # Generate the next token\n",
        "    with torch.no_grad():\n",
        "        output = model.generate(tokens, max_new_tokens=1)\n",
        "    new_token = output[:, -1].item()\n",
        "\n",
        "    # Convert the new token to a character and append to the prompt\n",
        "    new_char = itos[new_token]\n",
        "    if new_char == '':\n",
        "      word_count += 1\n",
        "    tokens = torch.cat((tokens, torch.tensor([[new_token]], device=device)), dim=1)\n",
        "\n",
        "    if word_count >= 2000:\n",
        "      break\n",
        "\n",
        "# Convert the token indices to characters and join them into a string\n",
        "generated_text = ''.join([itos[idx] for idx in tokens.squeeze().tolist()])\n",
        "\n",
        "# Print the generated text\n",
        "print(generated_text)"
      ],
      "metadata": {
        "colab": {
          "base_uri": "https://localhost:8080/",
          "height": 801
        },
        "id": "A6pHrY9broqS",
        "outputId": "b6fa9c14-30f2-4262-f0ce-5b29f44f6c27"
      },
      "execution_count": null,
      "outputs": [
        {
          "output_type": "error",
          "ename": "RuntimeError",
          "evalue": "Error(s) in loading state_dict for BigramLanguageModel:\n\tUnexpected key(s) in state_dict: \"blocks.4.sa.heads.0.tril\", \"blocks.4.sa.heads.0.key.weight\", \"blocks.4.sa.heads.0.query.weight\", \"blocks.4.sa.heads.0.value.weight\", \"blocks.4.sa.heads.1.tril\", \"blocks.4.sa.heads.1.key.weight\", \"blocks.4.sa.heads.1.query.weight\", \"blocks.4.sa.heads.1.value.weight\", \"blocks.4.sa.heads.2.tril\", \"blocks.4.sa.heads.2.key.weight\", \"blocks.4.sa.heads.2.query.weight\", \"blocks.4.sa.heads.2.value.weight\", \"blocks.4.sa.heads.3.tril\", \"blocks.4.sa.heads.3.key.weight\", \"blocks.4.sa.heads.3.query.weight\", \"blocks.4.sa.heads.3.value.weight\", \"blocks.4.sa.proj.weight\", \"blocks.4.sa.proj.bias\", \"blocks.4.ffwd.net.0.weight\", \"blocks.4.ffwd.net.0.bias\", \"blocks.4.ffwd.net.2.weight\", \"blocks.4.ffwd.net.2.bias\", \"blocks.4.ln1.weight\", \"blocks.4.ln1.bias\", \"blocks.4.ln2.weight\", \"blocks.4.ln2.bias\", \"blocks.5.sa.heads.0.tril\", \"blocks.5.sa.heads.0.key.weight\", \"blocks.5.sa.heads.0.query.weight\", \"blocks.5.sa.heads.0.value.weight\", \"blocks.5.sa.heads.1.tril\", \"blocks.5.sa.heads.1.key.weight\", \"blocks.5.sa.heads.1.query.weight\", \"blocks.5.sa.heads.1.value.weight\", \"blocks.5.sa.heads.2.tril\", \"blocks.5.sa.heads.2.key.weight\", \"blocks.5.sa.heads.2.query.weight\", \"blocks.5.sa.heads.2.value.weight\", \"blocks.5.sa.heads.3.tril\", \"blocks.5.sa.heads.3.key.weight\", \"blocks.5.sa.heads.3.query.weight\", \"blocks.5.sa.heads.3.value.weight\", \"blocks.5.sa.proj.weight\", \"blocks.5.sa.proj.bias\", \"blocks.5.ffwd.net.0.weight\", \"blocks.5.ffwd.net.0.bias\", \"blocks.5.ffwd.net.2.weight\", \"blocks.5.ffwd.net.2.bias\", \"blocks.5.ln1.weight\", \"blocks.5.ln1.bias\", \"blocks.5.ln2.weight\", \"blocks.5.ln2.bias\". ",
          "traceback": [
            "\u001b[0;31m---------------------------------------------------------------------------\u001b[0m",
            "\u001b[0;31mRuntimeError\u001b[0m                              Traceback (most recent call last)",
            "\u001b[0;32m<ipython-input-56-ad9cdee9dbc5>\u001b[0m in \u001b[0;36m<cell line: 4>\u001b[0;34m()\u001b[0m\n\u001b[1;32m      2\u001b[0m \u001b[0mmodel\u001b[0m \u001b[0;34m=\u001b[0m \u001b[0mBigramLanguageModel\u001b[0m\u001b[0;34m(\u001b[0m\u001b[0;34m)\u001b[0m\u001b[0;34m.\u001b[0m\u001b[0mto\u001b[0m\u001b[0;34m(\u001b[0m\u001b[0mdevice\u001b[0m\u001b[0;34m)\u001b[0m\u001b[0;34m\u001b[0m\u001b[0;34m\u001b[0m\u001b[0m\n\u001b[1;32m      3\u001b[0m \u001b[0mstate_dict\u001b[0m \u001b[0;34m=\u001b[0m \u001b[0mtorch\u001b[0m\u001b[0;34m.\u001b[0m\u001b[0mload\u001b[0m\u001b[0;34m(\u001b[0m\u001b[0;34m'/content/drive/MyDrive/saved_models/modelboy_l6.h5'\u001b[0m\u001b[0;34m)\u001b[0m\u001b[0;34m\u001b[0m\u001b[0;34m\u001b[0m\u001b[0m\n\u001b[0;32m----> 4\u001b[0;31m \u001b[0mmodel\u001b[0m\u001b[0;34m.\u001b[0m\u001b[0mload_state_dict\u001b[0m\u001b[0;34m(\u001b[0m\u001b[0mstate_dict\u001b[0m\u001b[0;34m)\u001b[0m\u001b[0;34m\u001b[0m\u001b[0;34m\u001b[0m\u001b[0m\n\u001b[0m\u001b[1;32m      5\u001b[0m \u001b[0mmodel\u001b[0m\u001b[0;34m.\u001b[0m\u001b[0meval\u001b[0m\u001b[0;34m(\u001b[0m\u001b[0;34m)\u001b[0m\u001b[0;34m\u001b[0m\u001b[0;34m\u001b[0m\u001b[0m\n\u001b[1;32m      6\u001b[0m \u001b[0;34m\u001b[0m\u001b[0m\n",
            "\u001b[0;32m/usr/local/lib/python3.10/dist-packages/torch/nn/modules/module.py\u001b[0m in \u001b[0;36mload_state_dict\u001b[0;34m(self, state_dict, strict, assign)\u001b[0m\n\u001b[1;32m   2151\u001b[0m \u001b[0;34m\u001b[0m\u001b[0m\n\u001b[1;32m   2152\u001b[0m         \u001b[0;32mif\u001b[0m \u001b[0mlen\u001b[0m\u001b[0;34m(\u001b[0m\u001b[0merror_msgs\u001b[0m\u001b[0;34m)\u001b[0m \u001b[0;34m>\u001b[0m \u001b[0;36m0\u001b[0m\u001b[0;34m:\u001b[0m\u001b[0;34m\u001b[0m\u001b[0;34m\u001b[0m\u001b[0m\n\u001b[0;32m-> 2153\u001b[0;31m             raise RuntimeError('Error(s) in loading state_dict for {}:\\n\\t{}'.format(\n\u001b[0m\u001b[1;32m   2154\u001b[0m                                self.__class__.__name__, \"\\n\\t\".join(error_msgs)))\n\u001b[1;32m   2155\u001b[0m         \u001b[0;32mreturn\u001b[0m \u001b[0m_IncompatibleKeys\u001b[0m\u001b[0;34m(\u001b[0m\u001b[0mmissing_keys\u001b[0m\u001b[0;34m,\u001b[0m \u001b[0munexpected_keys\u001b[0m\u001b[0;34m)\u001b[0m\u001b[0;34m\u001b[0m\u001b[0;34m\u001b[0m\u001b[0m\n",
            "\u001b[0;31mRuntimeError\u001b[0m: Error(s) in loading state_dict for BigramLanguageModel:\n\tUnexpected key(s) in state_dict: \"blocks.4.sa.heads.0.tril\", \"blocks.4.sa.heads.0.key.weight\", \"blocks.4.sa.heads.0.query.weight\", \"blocks.4.sa.heads.0.value.weight\", \"blocks.4.sa.heads.1.tril\", \"blocks.4.sa.heads.1.key.weight\", \"blocks.4.sa.heads.1.query.weight\", \"blocks.4.sa.heads.1.value.weight\", \"blocks.4.sa.heads.2.tril\", \"blocks.4.sa.heads.2.key.weight\", \"blocks.4.sa.heads.2.query.weight\", \"blocks.4.sa.heads.2.value.weight\", \"blocks.4.sa.heads.3.tril\", \"blocks.4.sa.heads.3.key.weight\", \"blocks.4.sa.heads.3.query.weight\", \"blocks.4.sa.heads.3.value.weight\", \"blocks.4.sa.proj.weight\", \"blocks.4.sa.proj.bias\", \"blocks.4.ffwd.net.0.weight\", \"blocks.4.ffwd.net.0.bias\", \"blocks.4.ffwd.net.2.weight\", \"blocks.4.ffwd.net.2.bias\", \"blocks.4.ln1.weight\", \"blocks.4.ln1.bias\", \"blocks.4.ln2.weight\", \"blocks.4.ln2.bias\", \"blocks.5.sa.heads.0.tril\", \"blocks.5.sa.heads.0.key.weight\", \"blocks.5.sa.heads.0.query.weight\", \"blocks.5.sa.heads.0.value.weight\", \"blocks.5.sa.heads.1.tril\", \"blocks.5.sa.heads.1.key.weight\", \"blocks.5.sa.heads.1.query.weight\", \"blocks.5.sa.heads.1.value.weight\", \"blocks.5.sa.heads.2.tril\", \"blocks.5.sa.heads.2.key.weight\", \"blocks.5.sa.heads.2.query.weight\", \"blocks.5.sa.heads.2.value.weight\", \"blocks.5.sa.heads.3.tril\", \"blocks.5.sa.heads.3.key.weight\", \"blocks.5.sa.heads.3.query.weight\", \"blocks.5.sa.heads.3.value.weight\", \"blocks.5.sa.proj.weight\", \"blocks.5.sa.proj.bias\", \"blocks.5.ffwd.net.0.weight\", \"blocks.5.ffwd.net.0.bias\", \"blocks.5.ffwd.net.2.weig..."
          ]
        }
      ]
    },
    {
      "cell_type": "code",
      "source": [
        "! echo 'repository: \"file://.keepsake\"' > keepsake.yaml"
      ],
      "metadata": {
        "id": "9trnwoMdZ1kH"
      },
      "execution_count": null,
      "outputs": []
    },
    {
      "cell_type": "code",
      "source": [],
      "metadata": {
        "colab": {
          "base_uri": "https://localhost:8080/",
          "height": 783
        },
        "id": "JFa1QQEdZ7DE",
        "outputId": "f3d8bc93-c641-46a7-c519-a39682487b20"
      },
      "execution_count": null,
      "outputs": [
        {
          "output_type": "stream",
          "name": "stderr",
          "text": [
            "\u001b[2m═══╡ \u001b[0mCreating experiment 9f747f8...\n",
            "\u001b[2m═══╡ \u001b[0mCreating checkpoint 0b7ade2, copying 'model.pth' to 'file:///content/.keepsake' in the background...\n"
          ]
        },
        {
          "output_type": "stream",
          "name": "stdout",
          "text": [
            "step 0: train loss 1.9991, val loss 2.0156\n"
          ]
        },
        {
          "output_type": "stream",
          "name": "stderr",
          "text": [
            "\u001b[2m═══╡ \u001b[0mCreating checkpoint 8cb95ef, copying 'model.pth' to 'file:///content/.keepsake' in the background...\n"
          ]
        },
        {
          "output_type": "stream",
          "name": "stdout",
          "text": [
            "step 100: train loss 1.9960, val loss 2.0066\n"
          ]
        },
        {
          "output_type": "stream",
          "name": "stderr",
          "text": [
            "\u001b[2m═══╡ \u001b[0mCreating checkpoint 271fee1, copying 'model.pth' to 'file:///content/.keepsake' in the background...\n"
          ]
        },
        {
          "output_type": "stream",
          "name": "stdout",
          "text": [
            "step 200: train loss 1.9686, val loss 1.9815\n"
          ]
        },
        {
          "output_type": "stream",
          "name": "stderr",
          "text": [
            "\u001b[2m═══╡ \u001b[0mCreating checkpoint 6099ab0, copying 'model.pth' to 'file:///content/.keepsake' in the background...\n"
          ]
        },
        {
          "output_type": "stream",
          "name": "stdout",
          "text": [
            "step 300: train loss 1.9278, val loss 1.9445\n"
          ]
        },
        {
          "output_type": "stream",
          "name": "stderr",
          "text": [
            "\u001b[2m═══╡ \u001b[0mCreating checkpoint b412258, copying 'model.pth' to 'file:///content/.keepsake' in the background...\n"
          ]
        },
        {
          "output_type": "stream",
          "name": "stdout",
          "text": [
            "step 400: train loss 1.8935, val loss 1.9114\n"
          ]
        },
        {
          "output_type": "stream",
          "name": "stderr",
          "text": [
            "\u001b[2m═══╡ \u001b[0mCreating checkpoint f42cde7, copying 'model.pth' to 'file:///content/.keepsake' in the background...\n"
          ]
        },
        {
          "output_type": "stream",
          "name": "stdout",
          "text": [
            "step 500: train loss 1.8684, val loss 1.8772\n"
          ]
        },
        {
          "output_type": "stream",
          "name": "stderr",
          "text": [
            "\u001b[2m═══╡ \u001b[0mCreating checkpoint 6f41b0e, copying 'model.pth' to 'file:///content/.keepsake' in the background...\n"
          ]
        },
        {
          "output_type": "stream",
          "name": "stdout",
          "text": [
            "step 600: train loss 1.8478, val loss 1.8548\n"
          ]
        },
        {
          "output_type": "stream",
          "name": "stderr",
          "text": [
            "\u001b[2m═══╡ \u001b[0mCreating checkpoint 0cadabd, copying 'model.pth' to 'file:///content/.keepsake' in the background...\n"
          ]
        },
        {
          "output_type": "stream",
          "name": "stdout",
          "text": [
            "step 700: train loss 1.8169, val loss 1.8453\n"
          ]
        },
        {
          "output_type": "stream",
          "name": "stderr",
          "text": [
            "\u001b[2m═══╡ \u001b[0mCreating checkpoint dfa7420, copying 'model.pth' to 'file:///content/.keepsake' in the background...\n"
          ]
        },
        {
          "output_type": "stream",
          "name": "stdout",
          "text": [
            "step 799: train loss 1.8194, val loss 1.8334\n"
          ]
        },
        {
          "output_type": "stream",
          "name": "stderr",
          "text": [
            "\u001b[2m═══╡ \u001b[0mCreating checkpoint 1a890f5, copying 'training_validation_loss_plot.png' to 'file:///content/.keepsake' in the background...\n"
          ]
        },
        {
          "output_type": "display_data",
          "data": {
            "text/plain": [
              "<Figure size 1000x600 with 1 Axes>"
            ],
            "image/png": "[encoded data removed]"
          },
          "metadata": {}
        }
      ]
    },
    {
      "cell_type": "code",
      "source": [
        "'''\n",
        "import torch\n",
        "from torch import nn\n",
        "from torch.autograd import Variable\n",
        "\n",
        "import keepsake\n",
        "\n",
        "def train(learning_rate=0.1, num_epochs=25):\n",
        "    # Create an \"experiment\". This represents a run of your training script.\n",
        "    # It saves the hyperparameters you used to start the experiment.\n",
        "    experiment = keepsake.init(\n",
        "        params={\"learning_rate\": learning_rate, \"num_epochs\": num_epochs},\n",
        "    )\n",
        "\n",
        "    model = BigramLanguageModel()\n",
        "    m = model.to(device)\n",
        "    optimizer = torch.optim.AdamW(model.parameters(), lr=learning_rate)\n",
        "    criterion = nn.CrossEntropyLoss()\n",
        "\n",
        "    for iter in range(max_iters):\n",
        "        model.train()\n",
        "        if iter % eval_interval == 0 or iter == max_iters - 1:\n",
        "            losses = estimate_loss()\n",
        "            print(f\"step {iter}: train loss {losses['train']:.4f}, val loss {losses['val']:.4f}\")\n",
        "\n",
        "            torch.save(model, \"model.pth\")\n",
        "            # Create a checkpoint within the experiment.\n",
        "            # This saves the metrics at that point, and makes a copy of the file\n",
        "            # or directory given, which could weights and any other artifacts.\n",
        "            experiment.checkpoint(\n",
        "                path=\"model.pth\",\n",
        "                step=max_iters,\n",
        "                metrics={\"loss\": loss.item(), \"accuracy\": acc},\n",
        "                primary_metric=(\"loss\", \"minimize\"),\n",
        "            )\n",
        "        # sample a batch of data\n",
        "        xb, yb = get_batch('train')\n",
        "\n",
        "        # evaluate the loss\n",
        "        logits, loss = model(xb, yb)\n",
        "        optimizer.zero_grad(set_to_none=True)\n",
        "        loss.backward()\n",
        "        optimizer.step()\n",
        "\n",
        "    # Mark the end of the experiment\n",
        "    experiment.stop()\n",
        "\n",
        "train(learning_rate=0.1, num_epochs=25)\n",
        "'''"
      ],
      "metadata": {
        "id": "VaRbRQvnH7H5"
      },
      "execution_count": null,
      "outputs": []
    },
    {
      "cell_type": "code",
      "source": [
        "'''\n",
        "import torch\n",
        "from torch import nn\n",
        "from torch.autograd import Variable\n",
        "\n",
        "import keepsake\n",
        "\n",
        "def train(learning_rate=0.1, num_epochs=25):\n",
        "    # Create an \"experiment\". This represents a run of your training script.\n",
        "    # It saves the hyperparameters you used to start the experiment.\n",
        "    experiment = keepsake.init(\n",
        "        params={\"learning_rate\": learning_rate, \"num_epochs\": num_epochs},\n",
        "    )\n",
        "\n",
        "    model = BigramLanguageModel()\n",
        "    m = model.to(device)\n",
        "    optimizer = torch.optim.AdamW(model.parameters(), lr=learning_rate)\n",
        "    criterion = nn.CrossEntropyLoss()\n",
        "\n",
        "    for iter in range(max_iters):\n",
        "        model.train()\n",
        "        if iter % eval_interval == 0 or iter == max_iters - 1:\n",
        "            losses = estimate_loss()\n",
        "            print(f\"step {iter}: train loss {losses['train']:.4f}, val loss {losses['val']:.4f}\")\n",
        "\n",
        "            # Save model checkpoint\n",
        "            torch.save(model.state_dict(), \"model.pth\")\n",
        "\n",
        "            # Create a checkpoint within the experiment.\n",
        "            # This saves the metrics at that point, and makes a copy of the file\n",
        "            # or directory given, which could weights and any other artifacts.\n",
        "            experiment.checkpoint(\n",
        "                path=\"model.pth\",\n",
        "                step=iter,\n",
        "                metrics={\"train_loss\": losses[\"train\"], \"val_loss\": losses[\"val\"]},\n",
        "                primary_metric=(\"loss\", \"minimize\"),\n",
        "            )\n",
        "\n",
        "        # Sample a batch of data\n",
        "        xb, yb = get_batch('train')\n",
        "\n",
        "        # Evaluate the loss\n",
        "        logits, loss = model(xb, yb)  # Assuming model returns logits and loss\n",
        "        logits = torch.tensor(logits)\n",
        "        yb = torch.tensor(yb)\n",
        "\n",
        "        optimizer.zero_grad(set_to_none=True)\n",
        "        loss.backward()\n",
        "        optimizer.step()\n",
        "\n",
        "    # Mark the end of the experiment\n",
        "    experiment.stop()\n",
        "'''\n",
        "\n"
      ],
      "metadata": {
        "id": "8PoLKs99LD-l"
      },
      "execution_count": null,
      "outputs": []
    },
    {
      "cell_type": "code",
      "source": [],
      "metadata": {
        "id": "-remOGIAsCYk"
      },
      "execution_count": null,
      "outputs": []
    },
    {
      "cell_type": "code",
      "source": [
        "'''\n",
        "import torch\n",
        "import torch.nn as nn\n",
        "from torch.nn import functional as F\n",
        "import keepsake\n",
        "\n",
        "def train(learning_rate, num_epochs):\n",
        "    # Initialize the experiment with hyperparameters\n",
        "    experiment = keepsake.init(\n",
        "        params={\"batch_size\": batch_size, \"block_size\": block_size, \"max_iters\": max_iters, \"learning_rate\": learning_rate},\n",
        "    )\n",
        "\n",
        "    # Your existing code here...\n",
        "\n",
        "    for iter in range(max_iters):\n",
        "        model.train()\n",
        "\n",
        "        # every once in a while evaluate the loss on train and val sets\n",
        "        if iter % eval_interval == 0 or iter == max_iters - 1:\n",
        "            losses = estimate_loss()\n",
        "            print(f\"step {iter}: train loss {losses['train']:.4f}, val loss {losses['val']:.4f}\")\n",
        "\n",
        "        # sample a batch of data\n",
        "        xb, yb = get_batch('train')\n",
        "\n",
        "        # evaluate the loss\n",
        "        logits, loss = model(xb, yb)\n",
        "        optimizer.zero_grad(set_to_none=True)\n",
        "        loss.backward()\n",
        "        optimizer.step()\n",
        "\n",
        "    # Mark the end of the experiment\n",
        "    experiment.stop()\n",
        "\n",
        "# Your hyperparameters and initialization code\n",
        "batch_size = 16\n",
        "block_size = 32\n",
        "max_iters = 600\n",
        "eval_interval = 100\n",
        "learning_rate = 1e-3\n",
        "device = 'cuda' if torch.cuda.is_available() else 'cpu'\n",
        "eval_iters = 200\n",
        "n_embd = 64\n",
        "n_head = 4\n",
        "n_layer = 4\n",
        "dropout = 0.0\n",
        "\n",
        "torch.manual_seed(1337)\n",
        "train(learning_rate, num_epochs)\n",
        "'''"
      ],
      "metadata": {
        "id": "m4hjfZtUcJLy"
      },
      "execution_count": null,
      "outputs": []
    },
    {
      "cell_type": "code",
      "source": [],
      "metadata": {
        "id": "NT2NYuSpeL0i"
      },
      "execution_count": null,
      "outputs": []
    },
    {
      "cell_type": "code",
      "source": [
        "'''\n",
        "import torch\n",
        "from torch import nn\n",
        "from torch.autograd import Variable\n",
        "import keepsake\n",
        "\n",
        "def train(learning_rate=0.1, num_epochs=25):\n",
        "    # Create an \"experiment\". This represents a run of your training script.\n",
        "    # It saves the hyperparameters you used to start the experiment.\n",
        "    experiment = keepsake.init(\n",
        "        params={\"learning_rate\": learning_rate, \"num_epochs\": num_epochs},\n",
        ")\n",
        "\n",
        "\n",
        "    # Your existing setup code here...\n",
        "\n",
        "    for epoch in range(num_epochs):\n",
        "        model.train()\n",
        "\n",
        "        # every once in a while evaluate the loss on train and val sets\n",
        "        if epoch % eval_interval == 0 or epoch == num_epochs - 1:\n",
        "            losses = estimate_loss()\n",
        "            print(f\"Epoch {epoch}: train loss {losses['train']:.4f}, val loss {losses['val']:.4f}\")\n",
        "\n",
        "        # sample a batch of data\n",
        "        xb, yb = get_batch('train')\n",
        "\n",
        "        # evaluate the loss\n",
        "        logits, loss = model(xb, yb)\n",
        "        optimizer.zero_grad(set_to_none=True)\n",
        "        loss.backward()\n",
        "        optimizer.step()\n",
        "\n",
        "        # Checkpoint the model and metrics\n",
        "\n",
        "        experiment.checkpoint(\n",
        "            path=\"/content/drive/MyDrive/saved_models/johnny1.keepsake\",\n",
        "            step=epoch,\n",
        "            metrics={\"loss\": loss.item()},\n",
        "            primary_metric=(\"loss\", \"minimize\"),\n",
        "        )\n",
        "\n",
        "    # Mark experiment as stopped\n",
        "    experiment.stop()\n",
        "# Run the training function\n",
        "train(learning_rate=1e-3, num_epochs=200)\n",
        "'''"
      ],
      "metadata": {
        "id": "GtCIeZ0PdhHd"
      },
      "execution_count": null,
      "outputs": []
    },
    {
      "cell_type": "code",
      "source": [
        "! echo 'repository: \"file:///content/drive/MyDrive/saved_models/Dream3.keepsake\"' > keepsake.yaml\n"
      ],
      "metadata": {
        "id": "Q0DAQIMlw7Pt"
      },
      "execution_count": null,
      "outputs": []
    },
    {
      "cell_type": "code",
      "source": [
        "train(learning_rate=0.1, num_epochs=25)"
      ],
      "metadata": {
        "id": "2rnIpspeNFzx"
      },
      "execution_count": null,
      "outputs": []
    },
    {
      "cell_type": "code",
      "source": [
        "import keepsake\n",
        "from keepsake import experiments\n",
        "\n",
        "experiments = keepsake.experiments.list()\n",
        "for experiment in experiments:\n",
        "    print(experiment)\n"
      ],
      "metadata": {
        "id": "d2mzReDYaizO"
      },
      "execution_count": null,
      "outputs": []
    },
    {
      "cell_type": "code",
      "source": [
        "experiment = keepsake.experiments.list()[0]\n",
        "\n",
        "# or, if you want to get a particular experiment by its ID:\n",
        "# experiment = keepsake.experiments.get(\"fb7202b\")\n",
        "\n",
        "experiment"
      ],
      "metadata": {
        "id": "N2M-6Tk8aoS8"
      },
      "execution_count": null,
      "outputs": []
    },
    {
      "cell_type": "code",
      "source": [
        "experiment.params"
      ],
      "metadata": {
        "id": "q4ykroIaaxdA"
      },
      "execution_count": null,
      "outputs": []
    },
    {
      "cell_type": "code",
      "source": [
        "experiment.checkpoints[1].metrics"
      ],
      "metadata": {
        "id": "zXnYr9kVazJr"
      },
      "execution_count": null,
      "outputs": []
    },
    {
      "cell_type": "code",
      "source": [
        "experiments = keepsake.experiments.list()\n",
        "experiments.plot()"
      ],
      "metadata": {
        "id": "SYfEXxs2a8OO"
      },
      "execution_count": null,
      "outputs": []
    },
    {
      "cell_type": "code",
      "source": [
        "'''\n",
        "import torch\n",
        "import keepsake\n",
        "\n",
        "def train(learning_rate, num_epochs):\n",
        "    # Save training code and hyperparameters\n",
        "    experiment = keepsake.init(\n",
        "        repository=\"/content/drive/MyDrive/saved_models\",\n",
        "        directory = \"keepsake.yaml\",\n",
        "        params={\"learning_rate\": learning_rate, \"num_epochs\": num_epochs},\n",
        "    )\n",
        "\n",
        "    # Initialize your model\n",
        "    model = Model()\n",
        "    model = model.to(device)  # Assuming 'device' is defined\n",
        "\n",
        "    for epoch in range(num_epochs):\n",
        "        # ... train step ...\n",
        "\n",
        "        # Save model weights and metrics\n",
        "        torch.save(model.state_dict(), f\"model_{epoch}.pth\")\n",
        "        experiment.checkpoint(\n",
        "            path=f\"model_{epoch}.pth\",\n",
        "            metrics={\"loss\": loss, \"accuracy\": accuracy}\n",
        "        )\n",
        "'''"
      ],
      "metadata": {
        "id": "mlXXbj0Fy0mI"
      },
      "execution_count": null,
      "outputs": []
    },
    {
      "cell_type": "code",
      "source": [
        "'''\n",
        "import numpy as np\n",
        "from keras.models import Sequential\n",
        "from keras.layers import Dense\n",
        "from keras.callbacks import ModelCheckpoint\n",
        "\n",
        "# Generate some dummy data\n",
        "data = np.random.random((1000, 100))\n",
        "labels = np.random.randint(2, size=(1000, 1))\n",
        "\n",
        "# Define the model\n",
        "model = Sequential()\n",
        "model.add(Dense(32, input_dim=100, activation='relu'))\n",
        "model.add(Dense(1, activation='sigmoid'))\n",
        "\n",
        "# Compile the model\n",
        "model.compile(optimizer='rmsprop', loss='binary_crossentropy', metrics=['accuracy'])\n",
        "\n",
        "# Define the checkpoint callback\n",
        "checkpoint = ModelCheckpoint('weights.{epoch:02d}-{val_loss:.2f}.hdf5', monitor='val_loss', verbose=1, save_best_only=True, mode='min')\n",
        "\n",
        "# Train the model\n",
        "model.fit(data, labels, epochs=10, batch_size=32, validation_split=0.2, callbacks=[checkpoint])\n",
        "'''"
      ],
      "metadata": {
        "id": "drGguNb1NuO3"
      },
      "execution_count": null,
      "outputs": []
    },
    {
      "cell_type": "code",
      "source": [
        "'''\n",
        "import keepsake\n",
        "\n",
        "max_iters = 10000\n",
        "eval_interval = 100\n",
        "num_epochs = 50\n",
        "learning_rate = 0.001\n",
        "\n",
        "# Save training code and hyperparameters\n",
        "experiment = keepsake.init(\n",
        "    directory=\"/content/drive/MyDrive/saved_models/\",\n",
        "    params={\"learning_rate\": learning_rate, \"num_epochs\": num_epochs},\n",
        ")\n",
        "\n",
        "# Rest of your code...\n",
        "\n",
        "for iter in range(max_iters):\n",
        "    # every once in a while evaluate the loss on train and val sets\n",
        "    if iter % eval_interval == 0 or iter == max_iters - 1:\n",
        "        losses = estimate_loss()\n",
        "        print(f\"step {iter}: train loss {losses['train']:.4f}, val loss {losses['val']:.4f}\")\n",
        "\n",
        "        # Log metrics\n",
        "        experiment.keep_metrics({\"train_loss\": losses['train'], \"val_loss\": losses['val']}, step=iter)\n",
        "\n",
        "    # sample a batch of data\n",
        "    xb, yb = get_batch('train')\n",
        "\n",
        "    # evaluate the loss\n",
        "    logits, loss = model(xb, yb)\n",
        "    optimizer.zero_grad(set_to_none=True)\n",
        "    loss.backward()\n",
        "    optimizer.step()\n",
        "\n",
        "    # Save model weights\n",
        "    experiment.keep_checkpoint(model.state_dict(), step=iter)\n",
        "\n",
        "# Save final model weights\n",
        "experiment.keep_checkpoint(model.state_dict(), step=max_iters, name=\"final_model\")\n",
        "'''"
      ],
      "metadata": {
        "id": "KM5b1AwX8U1R"
      },
      "execution_count": null,
      "outputs": []
    },
    {
      "cell_type": "markdown",
      "source": [],
      "metadata": {
        "id": "hsc6pTSr7aUO"
      }
    },
    {
      "cell_type": "markdown",
      "source": [],
      "metadata": {
        "id": "caj-0qDQ7aQf"
      }
    },
    {
      "cell_type": "markdown",
      "metadata": {
        "id": "vr0327NQqj_l"
      },
      "source": [
        "#16. Saving model"
      ]
    },
    {
      "cell_type": "code",
      "execution_count": null,
      "metadata": {
        "id": "R3H0DtRmq86k"
      },
      "outputs": [],
      "source": [
        "torch.save(model.state_dict(),'/content/drive/MyDrive/saved_models/modelboy_l6.h5')\n",
        "# Save model weights and metrics\n",
        "experiment.checkpoint(\n",
        "    path=\"/content/drive/MyDrive/NanoGPT Trials/Layer 2 New/modelboy_l6.h5\",\n",
        "          metrics={\"loss\": loss, \"accuracy\": accuracy}\n",
        "        })"
      ]
    },
    {
      "cell_type": "markdown",
      "metadata": {
        "id": "5NuzjhaOaSUC"
      },
      "source": [
        "#17. Prompting and output"
      ]
    },
    {
      "cell_type": "markdown",
      "metadata": {
        "id": "L7VjKMqLrWWC"
      },
      "source": []
    },
    {
      "cell_type": "code",
      "execution_count": null,
      "metadata": {
        "colab": {
          "base_uri": "https://localhost:8080/"
        },
        "id": "JJryUhL54Os9",
        "outputId": "5c0e661f-0cda-4e8d-b81e-c65efab10cf1"
      },
      "outputs": [
        {
          "output_type": "stream",
          "name": "stdout",
          "text": [
            "what is the difference between harry and hagrid twin over and broth\n",
            "drofe. Throwing, thought of the troathed\n",
            "on the growies pier and heads, shared vitia a sup) ”\n",
            "gothe. Flaming!”\n",
            "\n",
            "“I’ll goin od lood jon, I tried eer Isna had varching and riblin could be.\n",
            "he threw and squaaatly from pointing himself than rest\n",
            "broom. Throw, but Evera Thous.\n",
            "\n",
            "“Well read onto easten bice kack\n",
            "and brhing the corridors.\n",
            "\n",
            "“I’m seed his going to first,” buars appoathed.\n",
            "\n",
            "Anyther of threw, and Dout it? You not,”\n",
            "beasle Harry tragain.”\n",
            "\n",
            "“No, Peoll’s ofect of ‘necurious a\n",
            "bump it ontention vooiced had an enough a plate hoot\n",
            "class light back. “And was roop coldwing\n",
            "broomsticks why hard gold, “ wream to an oving a such Gringer. Now were whole started narrow chocless, at\n",
            "those innoeth!” he said?”\n",
            "\n",
            "But he or starry, seaving, looking with seen. Wwasn’t\n",
            "do you want to be about a laugh\n",
            "boy ploce hard out up and under down\n",
            "Hagrid that bosning?” Harry rosed piled corridor. “Professor Malkon, doces sharp stlyether later to de.\n",
            "\n",
            "“Thousand hool.” Snape athat Hermione trought tried to the\n",
            "shots, wasn’t back, I tin Malte in they’d hoter has though .. .. \n",
            "\n",
            "\n",
            "\n",
            "\n",
            "“I’ll even line. I met out. Longboct .. I\n",
            "warth.\n",
            "\n",
            "“Not we to do of a day offaint about the wrong togrived away! Che Phothin, though three,\n",
            "\n",
            "“Liook atch, onother was a botic, it’s an atter,\n",
            "and tarter Leet; a’ll dill antick both wollow. Who you seven hold go — that\n",
            "seach Harry’s drosned try teached out of happen, about yously at\n",
            "with Dumbledore’s owled to do keep and what’s made\n",
            "carefirasts. They atiman a talk and bungling horrold our book, that\n",
            "the Snotatie. “Wet not Evermy Twowcard, Hermbustardly.”med Ron and a\n",
            "home Like ter, ithinger had mutth his\n",
            "wabe storted in thair and classly toos\n",
            "dickly door.\n",
            "\n",
            "“Quid’s usual exactly bacos of trying\n",
            "eages bave was so pun.\n",
            "\n",
            "“Got,” said Snape bound to stooth, who all tran. I say and teashe, wellent Harry’s watched turned to the en grow, pointing\n",
            "and apaoned upbed althone. “Wrood\n",
            "up or the wand. Hogwarts — hocnap a\n",
            "secondly, but though the swungy talking. They ha\n"
          ]
        }
      ],
      "source": [
        "\n",
        "# Load the model and move it to the same device as the tokens\n",
        "model = BigramLanguageModel().to(device)\n",
        "state_dict = torch.load('/content/drive/MyDrive/saved_models/modelboy_l6.h5')\n",
        "model.load_state_dict(state_dict)\n",
        "model.eval()\n",
        "\n",
        "# Tokenize the starting prompt\n",
        "prompt = \"what is the difference between harry and hagrid\"\n",
        "tokens = torch.tensor(encode(prompt), dtype=torch.long).unsqueeze(0).to(device)\n",
        "\n",
        "# Generate the conversation\n",
        "max_tokens = 2000\n",
        "word_count = 0\n",
        "\n",
        "# Generate up to max_tokens words\n",
        "for _ in range(max_tokens):\n",
        "    # Generate the next token\n",
        "    with torch.no_grad():\n",
        "        output = model.generate(tokens, max_new_tokens=1)\n",
        "    new_token = output[:, -1].item()\n",
        "\n",
        "    # Convert the new token to a character and append to the prompt\n",
        "    new_char = itos[new_token]\n",
        "    if new_char == '':\n",
        "      word_count += 1\n",
        "    tokens = torch.cat((tokens, torch.tensor([[new_token]], device=device)), dim=1)\n",
        "\n",
        "    if word_count >= 2000:\n",
        "      break\n",
        "\n",
        "# Convert the token indices to characters and join them into a string\n",
        "generated_text = ''.join([itos[idx] for idx in tokens.squeeze().tolist()])\n",
        "\n",
        "# Print the generated text\n",
        "print(generated_text)"
      ]
    },
    {
      "cell_type": "code",
      "execution_count": null,
      "metadata": {
        "id": "iahifShBUMj7"
      },
      "outputs": [],
      "source": []
    },
    {
      "cell_type": "code",
      "execution_count": null,
      "metadata": {
        "colab": {
          "base_uri": "https://localhost:8080/",
          "height": 244
        },
        "id": "ZBR5CFAuVnP_",
        "outputId": "36480ce6-b725-4716-e405-dc5fddaca41c"
      },
      "outputs": [
        {
          "output_type": "execute_result",
          "data": {
            "text/plain": [
              "'\\n# List of 50 prompts\\nprompts = [\\n    \"What is the difference between Harry and Hagrid?\",\\n    \"How did Voldemort lose his powers?\",\\n    \"Why did Dumbledore trust Snape?\",\\n    \"Describe a typical day in the life of a Hogwarts student.\",\\n    \"What are some magical creatures Harry encountered during his time at Hogwarts?\",\\n    \"Explain how the Triwizard Tournament works.\",\\n    \"Describe a spell that Harry learned in Defense Against the Dark Arts class.\",\\n    \"What is the significance of Harry\\'s lightning-shaped scar?\",\\n    \"Discuss the relationship between Harry, Ron, and Hermione.\",\\n    \"Describe a Quidditch match at Hogwarts.\",\\n    \"What challenges did Harry face in the Chamber of Secrets?\",\\n    \"Explain the concept of Horcruxes and how they were used by Voldemort.\",\\n    \"Describe a lesson with Professor Snape in Potions class.\",\\n    \"Discuss the role of Dumbledore as headmaster of Hogwarts.\",\\n    \"Explain the history and significance of the Deathly Hallows.\",\\n    \"Describe a feast in the Great Hall at Hogwarts.\",\\n    \"Discuss the rivalry between Gryffindor and Slytherin houses.\",\\n    \"Describe a magical object that plays a key role in the Harry Potter series.\",\\n    \"Explain the process of brewing Polyjuice Potion.\",\\n    \"Discuss the significance of Harry\\'s Patronus.\",\\n    \"Describe a visit to Hogsmeade village.\",\\n    \"Explain the concept of Animagi and how they are registered.\",\\n    \"Discuss the role of house-elves in the Wizarding World.\",\\n    \"Describe a visit to the Forbidden Forest at Hogwarts.\",\\n    \"Explain how the Marauder\\'s Map works.\",\\n    \"Discuss the history and significance of the Mirror of Erised.\",\\n    \"Describe a magical creature from the Harry Potter series and its characteristics.\",\\n    \"Explain the rules and regulations of the Hogwarts Express train.\",\\n    \"Discuss the importance of wandlore in the Wizarding World.\",\\n    \"Describe a magical plant found in the Hogwarts greenhouse.\",\\n    \"Explain the significance of the Sorting Hat ceremony at Hogwarts.\",\\n    \"Discuss the role of the Ministry of Magic in regulating the Wizarding World.\",\\n    \"Describe a magical duel between two characters in the Harry Potter series.\",\\n    \"Explain the role of the Triwizard Cup in the Triwizard Tournament.\",\\n    \"Discuss the significance of the Yule Ball in the fourth Harry Potter book.\",\\n    \"Describe a magical object from the Harry Potter series that has the power to transport individuals.\",\\n    \"Explain the process of creating a Horcrux and why it is considered dark magic.\",\\n    \"Discuss the importance of Quidditch in the Wizarding World.\",\\n    \"Describe a magical creature that is considered dangerous in the Harry Potter series.\",\\n    \"Explain the concept of Occlumency and why it is important for wizards to learn.\",\\n    \"Discuss the role of the Hogwarts Express train in transporting students to Hogwarts.\",\\n    \"Describe a magical artifact that plays a key role in one of the Harry Potter books.\",\\n    \"Explain the concept of the Triwizard Tournament and how it is organized.\",\\n    \"Discuss the importance of the Room of Requirement in the Harry Potter series.\",\\n    \"Describe a magical spell that is used for defensive purposes in the Wizarding World.\",\\n    \"Explain the significance of the prophecy regarding Harry and Voldemort.\",\\n    \"Discuss the role of house points in determining the House Cup winner at Hogwarts.\",\\n    \"Describe a magical creature that is considered to be mythical in the Harry Potter series.\",\\n    \"Explain the concept of the Unbreakable Vow and its consequences.\",\\n    \"Discuss the role of the Hogwarts ghosts in the Harry Potter series.\",\\n    \"Describe a magical object that has the power to manipulate time.\",\\n    \"Explain the significance of Harry\\'s Invisibility Cloak in the Harry Potter series.\"\\n]\\n\\n# Move the entire model to the same device as the tokens\\nmodel.to(device)\\n\\n# Generate text for each prompt\\nfor i, prompt in enumerate(prompts):\\n    print(f\"Generating text for prompt {i + 1}\")\\n\\n    # Tokenize the starting prompt\\n    tokens = torch.tensor(encode(prompt), dtype=torch.long).unsqueeze(0).to(device)\\n    max_tokens = 2000\\n    word_count = 0\\n\\n    # Generate up to max_tokens words\\n    for _ in range(max_tokens):\\n        with torch.no_grad():\\n            output = model.generate(tokens, max_new_tokens=1)\\n        new_token = output[:, -1].item()\\n        new_char = itos[new_token]\\n        if new_char == \\'\\':\\n            word_count += 1\\n        new_tensor = torch.tensor([[new_token]], device=device)\\n        tokens = torch.cat((tokens, new_tensor), dim=1)\\n\\n        if word_count >= 15000:\\n            break\\n\\n    # Convert the token indices to characters and join them into a string\\n    generated_text = \\'\\'.join([itos[idx] for idx in tokens.squeeze().tolist()])\\n    print(generated_text)\\n'"
            ],
            "application/vnd.google.colaboratory.intrinsic+json": {
              "type": "string"
            }
          },
          "metadata": {},
          "execution_count": 45
        }
      ],
      "source": [
        "'''\n",
        "# List of 50 prompts\n",
        "prompts = [\n",
        "    \"What is the difference between Harry and Hagrid?\",\n",
        "    \"How did Voldemort lose his powers?\",\n",
        "    \"Why did Dumbledore trust Snape?\",\n",
        "    \"Describe a typical day in the life of a Hogwarts student.\",\n",
        "    \"What are some magical creatures Harry encountered during his time at Hogwarts?\",\n",
        "    \"Explain how the Triwizard Tournament works.\",\n",
        "    \"Describe a spell that Harry learned in Defense Against the Dark Arts class.\",\n",
        "    \"What is the significance of Harry's lightning-shaped scar?\",\n",
        "    \"Discuss the relationship between Harry, Ron, and Hermione.\",\n",
        "    \"Describe a Quidditch match at Hogwarts.\",\n",
        "    \"What challenges did Harry face in the Chamber of Secrets?\",\n",
        "    \"Explain the concept of Horcruxes and how they were used by Voldemort.\",\n",
        "    \"Describe a lesson with Professor Snape in Potions class.\",\n",
        "    \"Discuss the role of Dumbledore as headmaster of Hogwarts.\",\n",
        "    \"Explain the history and significance of the Deathly Hallows.\",\n",
        "    \"Describe a feast in the Great Hall at Hogwarts.\",\n",
        "    \"Discuss the rivalry between Gryffindor and Slytherin houses.\",\n",
        "    \"Describe a magical object that plays a key role in the Harry Potter series.\",\n",
        "    \"Explain the process of brewing Polyjuice Potion.\",\n",
        "    \"Discuss the significance of Harry's Patronus.\",\n",
        "    \"Describe a visit to Hogsmeade village.\",\n",
        "    \"Explain the concept of Animagi and how they are registered.\",\n",
        "    \"Discuss the role of house-elves in the Wizarding World.\",\n",
        "    \"Describe a visit to the Forbidden Forest at Hogwarts.\",\n",
        "    \"Explain how the Marauder's Map works.\",\n",
        "    \"Discuss the history and significance of the Mirror of Erised.\",\n",
        "    \"Describe a magical creature from the Harry Potter series and its characteristics.\",\n",
        "    \"Explain the rules and regulations of the Hogwarts Express train.\",\n",
        "    \"Discuss the importance of wandlore in the Wizarding World.\",\n",
        "    \"Describe a magical plant found in the Hogwarts greenhouse.\",\n",
        "    \"Explain the significance of the Sorting Hat ceremony at Hogwarts.\",\n",
        "    \"Discuss the role of the Ministry of Magic in regulating the Wizarding World.\",\n",
        "    \"Describe a magical duel between two characters in the Harry Potter series.\",\n",
        "    \"Explain the role of the Triwizard Cup in the Triwizard Tournament.\",\n",
        "    \"Discuss the significance of the Yule Ball in the fourth Harry Potter book.\",\n",
        "    \"Describe a magical object from the Harry Potter series that has the power to transport individuals.\",\n",
        "    \"Explain the process of creating a Horcrux and why it is considered dark magic.\",\n",
        "    \"Discuss the importance of Quidditch in the Wizarding World.\",\n",
        "    \"Describe a magical creature that is considered dangerous in the Harry Potter series.\",\n",
        "    \"Explain the concept of Occlumency and why it is important for wizards to learn.\",\n",
        "    \"Discuss the role of the Hogwarts Express train in transporting students to Hogwarts.\",\n",
        "    \"Describe a magical artifact that plays a key role in one of the Harry Potter books.\",\n",
        "    \"Explain the concept of the Triwizard Tournament and how it is organized.\",\n",
        "    \"Discuss the importance of the Room of Requirement in the Harry Potter series.\",\n",
        "    \"Describe a magical spell that is used for defensive purposes in the Wizarding World.\",\n",
        "    \"Explain the significance of the prophecy regarding Harry and Voldemort.\",\n",
        "    \"Discuss the role of house points in determining the House Cup winner at Hogwarts.\",\n",
        "    \"Describe a magical creature that is considered to be mythical in the Harry Potter series.\",\n",
        "    \"Explain the concept of the Unbreakable Vow and its consequences.\",\n",
        "    \"Discuss the role of the Hogwarts ghosts in the Harry Potter series.\",\n",
        "    \"Describe a magical object that has the power to manipulate time.\",\n",
        "    \"Explain the significance of Harry's Invisibility Cloak in the Harry Potter series.\"\n",
        "]\n",
        "\n",
        "# Move the entire model to the same device as the tokens\n",
        "model.to(device)\n",
        "\n",
        "# Generate text for each prompt\n",
        "for i, prompt in enumerate(prompts):\n",
        "    print(f\"Generating text for prompt {i + 1}\")\n",
        "\n",
        "    # Tokenize the starting prompt\n",
        "    tokens = torch.tensor(encode(prompt), dtype=torch.long).unsqueeze(0).to(device)\n",
        "    max_tokens = 2000\n",
        "    word_count = 0\n",
        "\n",
        "    # Generate up to max_tokens words\n",
        "    for _ in range(max_tokens):\n",
        "        with torch.no_grad():\n",
        "            output = model.generate(tokens, max_new_tokens=1)\n",
        "        new_token = output[:, -1].item()\n",
        "        new_char = itos[new_token]\n",
        "        if new_char == '':\n",
        "            word_count += 1\n",
        "        new_tensor = torch.tensor([[new_token]], device=device)\n",
        "        tokens = torch.cat((tokens, new_tensor), dim=1)\n",
        "\n",
        "        if word_count >= 15000:\n",
        "            break\n",
        "\n",
        "    # Convert the token indices to characters and join them into a string\n",
        "    generated_text = ''.join([itos[idx] for idx in tokens.squeeze().tolist()])\n",
        "    print(generated_text)\n",
        "'''"
      ]
    },
    {
      "cell_type": "code",
      "execution_count": null,
      "metadata": {
        "colab": {
          "base_uri": "https://localhost:8080/",
          "height": 227
        },
        "id": "nulzoqIDZed2",
        "outputId": "6ffeb8f7-1136-4ac3-d781-c14a05244ef7"
      },
      "outputs": [
        {
          "output_type": "execute_result",
          "data": {
            "text/plain": [
              "'\\n# List of 50 prompts\\nprompts = [\\n    \"What is the difference between Harry and Hagrid?\",\\n    \"How did Voldemort lose his powers?\",\\n    \"Why did Dumbledore trust Snape?\",\\n    # Add your remaining prompts here\\n]\\n\\n# Move the entire model to the same device as the tokens\\nmodel.to(device)\\n\\n# Generate the conversation for each prompt\\nfor i, prompt in enumerate(prompts):\\n    print(f\"Generating text for prompt {i + 1}\")\\n    tokens = torch.tensor(encode(prompt), dtype=torch.long).unsqueeze(0).to(device)\\n    max_tokens = 2000\\n    word_count = 0\\n    while True:\\n        with torch.no_grad():\\n            output = model.generate(tokens, max_new_tokens=1)\\n        new_token = output[:, -1].item()\\n        new_char = itos[new_token]\\n        if new_char == \\'\\':\\n            word_count += 1\\n        new_tensor = torch.tensor([[new_token]], device=device)\\n        tokens = torch.cat((tokens, new_tensor), dim=1)\\n\\n        if word_count >= 2000:\\n            break\\n\\n    generated_text = \\'\\'.join([itos[idx] for idx in tokens.squeeze().tolist()])\\n    print(generated_text)\\n'"
            ],
            "application/vnd.google.colaboratory.intrinsic+json": {
              "type": "string"
            }
          },
          "metadata": {},
          "execution_count": 46
        }
      ],
      "source": [
        "'''\n",
        "# List of 50 prompts\n",
        "prompts = [\n",
        "    \"What is the difference between Harry and Hagrid?\",\n",
        "    \"How did Voldemort lose his powers?\",\n",
        "    \"Why did Dumbledore trust Snape?\",\n",
        "    # Add your remaining prompts here\n",
        "]\n",
        "\n",
        "# Move the entire model to the same device as the tokens\n",
        "model.to(device)\n",
        "\n",
        "# Generate the conversation for each prompt\n",
        "for i, prompt in enumerate(prompts):\n",
        "    print(f\"Generating text for prompt {i + 1}\")\n",
        "    tokens = torch.tensor(encode(prompt), dtype=torch.long).unsqueeze(0).to(device)\n",
        "    max_tokens = 2000\n",
        "    word_count = 0\n",
        "    while True:\n",
        "        with torch.no_grad():\n",
        "            output = model.generate(tokens, max_new_tokens=1)\n",
        "        new_token = output[:, -1].item()\n",
        "        new_char = itos[new_token]\n",
        "        if new_char == '':\n",
        "            word_count += 1\n",
        "        new_tensor = torch.tensor([[new_token]], device=device)\n",
        "        tokens = torch.cat((tokens, new_tensor), dim=1)\n",
        "\n",
        "        if word_count >= 2000:\n",
        "            break\n",
        "\n",
        "    generated_text = ''.join([itos[idx] for idx in tokens.squeeze().tolist()])\n",
        "    print(generated_text)\n",
        "'''"
      ]
    },
    {
      "cell_type": "code",
      "source": [
        "'''\n",
        "what is the difference between harry and hagrid twin over and broth\n",
        "drofe. Throwing, thought of the troathed\n",
        "on the growies pier and heads, shared vitia a sup) ”\n",
        "gothe. Flaming!”\n",
        "\n",
        "“I’ll goin od lood jon, I tried eer Isna had varching and riblin could be.\n",
        "he threw and squaaatly from pointing himself than rest\n",
        "broom. Throw, but Evera Thous.\n",
        "\n",
        "“Well read onto easten bice kack\n",
        "and brhing the corridors.\n",
        "\n",
        "“I’m seed his going to first,” buars appoathed.\n",
        "\n",
        "Anyther of threw, and Dout it? You not,”\n",
        "beasle Harry tragain.”\n",
        "\n",
        "“No, Peoll’s ofect of ‘necurious a\n",
        "bump it ontention vooiced had an enough a plate hoot\n",
        "class light back. “And was roop coldwing\n",
        "broomsticks why hard gold, “ wream to an oving a such Gringer. Now were whole started narrow chocless, at\n",
        "those innoeth!” he said?”\n",
        "\n",
        "But he or starry, seaving, looking with seen. Wwasn’t\n",
        "do you want to be about a laugh\n",
        "boy ploce hard out up and under down\n",
        "Hagrid that bosning?” Harry rosed piled corridor. “Professor Malkon, doces sharp stlyether later to de.\n",
        "\n",
        "“Thousand hool.” Snape athat Hermione trought tried to the\n",
        "shots, wasn’t back, I tin Malte in they’d hoter has though .. ..\n",
        "\n",
        "\n",
        "\n",
        "\n",
        "“I’ll even line. I met out. Longboct .. I\n",
        "warth.\n",
        "\n",
        "“Not we to do of a day offaint about the wrong togrived away! Che Phothin, though three,\n",
        "\n",
        "“Liook atch, onother was a botic, it’s an atter,\n",
        "and tarter Leet; a’ll dill antick both wollow. Who you seven hold go — that\n",
        "seach Harry’s drosned try teached out of happen, about yously at\n",
        "with Dumbledore’s owled to do keep and what’s made\n",
        "carefirasts. They atiman a talk and bungling horrold our book, that\n",
        "the Snotatie. “Wet not Evermy Twowcard, Hermbustardly.”med Ron and a\n",
        "home Like ter, ithinger had mutth his\n",
        "wabe storted in thair and classly toos\n",
        "dickly door.\n",
        "\n",
        "“Quid’s usual exactly bacos of trying\n",
        "eages bave was so pun.\n",
        "\n",
        "“Got,” said Snape bound to stooth, who all tran. I say and teashe, wellent Harry’s watched turned to the en grow, pointing\n",
        "and apaoned upbed althone. “Wrood\n",
        "up or the wand. Hogwarts — hocnap a\n",
        "secondly, but though the swungy talking. They ha'''"
      ],
      "metadata": {
        "id": "Y2t7HN5c0q7X"
      },
      "execution_count": null,
      "outputs": []
    },
    {
      "cell_type": "code",
      "execution_count": null,
      "metadata": {
        "id": "-1C7VquWlbZs",
        "colab": {
          "base_uri": "https://localhost:8080/"
        },
        "outputId": "c96f5e27-4896-487b-b042-0e4937781cda"
      },
      "outputs": [
        {
          "output_type": "stream",
          "name": "stdout",
          "text": [
            "Drive already mounted at /content/drive; to attempt to forcibly remount, call drive.mount(\"/content/drive\", force_remount=True).\n"
          ]
        }
      ],
      "source": [
        "from google.colab import drive\n",
        "\n",
        "# Mount Google Drive\n",
        "drive.mount('/content/drive')\n",
        "\n"
      ]
    },
    {
      "cell_type": "code",
      "execution_count": null,
      "metadata": {
        "colab": {
          "base_uri": "https://localhost:8080/"
        },
        "id": "ryCd8P26lmHL",
        "outputId": "ddd8c777-db7d-4155-8044-5308efea9a61"
      },
      "outputs": [
        {
          "output_type": "stream",
          "name": "stdout",
          "text": [
            "Text saved to file.\n"
          ]
        }
      ],
      "source": [
        "# Path to save the file\n",
        "file_path = '/content/drive/My Drive/saved_models/generated_text_l06.txt'\n",
        "\n",
        "# Write text to file\n",
        "with open(file_path, 'w') as file:\n",
        "    file.write(generated_text)\n",
        "\n",
        "print(\"Text saved to file.\")\n"
      ]
    },
    {
      "cell_type": "code",
      "execution_count": null,
      "metadata": {
        "id": "HqxoKXLJwx2G"
      },
      "outputs": [],
      "source": []
    },
    {
      "cell_type": "code",
      "execution_count": null,
      "metadata": {
        "id": "tK9RtdG0yMvc"
      },
      "outputs": [],
      "source": []
    },
    {
      "cell_type": "markdown",
      "metadata": {
        "id": "IjN3JTdnyQJN"
      },
      "source": [
        "#17. Analysing Accuracy\n"
      ]
    },
    {
      "cell_type": "code",
      "execution_count": null,
      "metadata": {
        "colab": {
          "base_uri": "https://localhost:8080/"
        },
        "id": "y6WL0cK4yU8o",
        "outputId": "df57156c-816d-4c51-9725-13dc322b82b7"
      },
      "outputs": [
        {
          "output_type": "stream",
          "name": "stdout",
          "text": [
            "Number of matching words: 144\n",
            "Accuracy: 0.5647058823529412\n"
          ]
        }
      ],
      "source": [
        "import re\n",
        "import json\n",
        "\n",
        "# Function to tokenize text into words\n",
        "def tokenize(text):\n",
        "    return set(re.findall(r'\\b\\w+\\b', text.lower()))\n",
        "\n",
        "# Load the contents of both files\n",
        "file1_path = '/content/drive/MyDrive/saved_models/sorcerers-stone.txt'\n",
        "file2_path = '/content/drive/MyDrive/saved_models/generated_text_l06.txt'\n",
        "\n",
        "with open(file1_path, 'r', encoding='utf-8') as file1:\n",
        "    text1 = file1.read()\n",
        "\n",
        "with open(file2_path, 'r', encoding='utf-8') as file2:\n",
        "    text2 = file2.read()\n",
        "\n",
        "# Tokenize the text into words\n",
        "words_file1 = tokenize(text1)\n",
        "words_file2 = tokenize(text2)\n",
        "\n",
        "# Calculate the number of words in file 2 that are also in file 1\n",
        "matching_words = len(words_file2.intersection(words_file1))\n",
        "\n",
        "# Calculate the accuracy\n",
        "accuracy = matching_words / len(words_file2) if len(words_file2) > 0 else 0\n",
        "\n",
        "print(f\"Number of matching words: {matching_words}\")\n",
        "print(f\"Accuracy: {accuracy}\")\n",
        "\n",
        "# Save the dictionaries to files\n",
        "dict1_path = '/content/drive/MyDrive/saved_models/dict3.json'\n",
        "dict2_path = '/content/drive/MyDrive/saved_models/dict4.json'\n",
        "\n",
        "\n"
      ]
    },
    {
      "cell_type": "markdown",
      "metadata": {
        "id": "gFuOz8GE-AAO"
      },
      "source": []
    }
  ],
  "metadata": {
    "colab": {
      "collapsed_sections": [
        "dA9I5yBdPGnT",
        "paPGTnoZP0SV",
        "CGQAegsZQH4e",
        "EWJ0Z1qpQllR",
        "2HrBq6TYfhNO",
        "9Il3MOkxh9Gu",
        "tPb9rcNVRktD",
        "zc7x_2ZOSwds",
        "HCeAMYnKS7iF",
        "7Wgr06ZLTNvP",
        "evGWJ5IQTNfh",
        "5kFVjkoXUWct"
      ],
      "provenance": [],
      "mount_file_id": "1-8d6hucTibNQrLvxmQFiaRZ8ek9N9k4n",
      "authorship_tag": "ABX9TyO3jqtdtOyugr5WDyL+trw8",
      "include_colab_link": true
    },
    "kernelspec": {
      "display_name": "Python 3",
      "name": "python3"
    },
    "language_info": {
      "name": "python"
    }
  },
  "nbformat": 4,
  "nbformat_minor": 0
}